{
 "cells": [
  {
   "cell_type": "markdown",
   "metadata": {},
   "source": [
    "# Distance Graph Matching\n",
    "\n",
    "## <span style=\"color:red\"> Step 1: Click on the \"Save Icon\". If you have a problem and need to completely restart, then click \"File\" and \"Revert to Checkpoint\" to reset. </span>\n",
    "\n",
    "In this activity, you'll use the distance function to model different types of motion."
   ]
  },
  {
   "cell_type": "markdown",
   "metadata": {},
   "source": [
    "## Code Box 1"
   ]
  },
  {
   "cell_type": "code",
   "execution_count": 3,
   "metadata": {},
   "outputs": [],
   "source": [
    "# this cell only needs to be run once, but re-exectuing it doesn't hurt anything either\n",
    "# imports software packages (not too exciting)\n",
    "import pandas as pd\n",
    "import numpy as np\n",
    "%matplotlib inline\n",
    "import matplotlib as mpl\n",
    "import matplotlib.pyplot as plt\n",
    "inline_rc = dict(mpl.rcParams)"
   ]
  },
  {
   "cell_type": "markdown",
   "metadata": {},
   "source": [
    "## Code Box 2"
   ]
  },
  {
   "cell_type": "code",
   "execution_count": 4,
   "metadata": {
    "scrolled": false
   },
   "outputs": [
    {
     "data": {
      "text/html": [
       "<div>\n",
       "<style scoped>\n",
       "    .dataframe tbody tr th:only-of-type {\n",
       "        vertical-align: middle;\n",
       "    }\n",
       "\n",
       "    .dataframe tbody tr th {\n",
       "        vertical-align: top;\n",
       "    }\n",
       "\n",
       "    .dataframe thead th {\n",
       "        text-align: right;\n",
       "    }\n",
       "</style>\n",
       "<table border=\"1\" class=\"dataframe\">\n",
       "  <thead>\n",
       "    <tr style=\"text-align: right;\">\n",
       "      <th></th>\n",
       "      <th>time (s)</th>\n",
       "      <th>object 1 distance (m)</th>\n",
       "      <th>object 2 distance (m)</th>\n",
       "    </tr>\n",
       "  </thead>\n",
       "  <tbody>\n",
       "    <tr>\n",
       "      <th>0</th>\n",
       "      <td>0</td>\n",
       "      <td>0</td>\n",
       "      <td>0</td>\n",
       "    </tr>\n",
       "    <tr>\n",
       "      <th>1</th>\n",
       "      <td>1</td>\n",
       "      <td>1</td>\n",
       "      <td>2</td>\n",
       "    </tr>\n",
       "    <tr>\n",
       "      <th>2</th>\n",
       "      <td>2</td>\n",
       "      <td>2</td>\n",
       "      <td>4</td>\n",
       "    </tr>\n",
       "    <tr>\n",
       "      <th>3</th>\n",
       "      <td>3</td>\n",
       "      <td>3</td>\n",
       "      <td>6</td>\n",
       "    </tr>\n",
       "    <tr>\n",
       "      <th>4</th>\n",
       "      <td>4</td>\n",
       "      <td>4</td>\n",
       "      <td>8</td>\n",
       "    </tr>\n",
       "    <tr>\n",
       "      <th>5</th>\n",
       "      <td>5</td>\n",
       "      <td>5</td>\n",
       "      <td>10</td>\n",
       "    </tr>\n",
       "  </tbody>\n",
       "</table>\n",
       "</div>"
      ],
      "text/plain": [
       "   time (s)  object 1 distance (m)  object 2 distance (m)\n",
       "0         0                      0                      0\n",
       "1         1                      1                      2\n",
       "2         2                      2                      4\n",
       "3         3                      3                      6\n",
       "4         4                      4                      8\n",
       "5         5                      5                     10"
      ]
     },
     "execution_count": 4,
     "metadata": {},
     "output_type": "execute_result"
    }
   ],
   "source": [
    "# this creates a data table\n",
    "data = pd.DataFrame()\n",
    "data['time (s)'] = [0,1,2,3,4,5]\n",
    "data['object 1 distance (m)'] = [0,1,2,3,4,5]\n",
    "data['object 2 distance (m)'] = [0,2,4,6,8,10]\n",
    "\n",
    "# this shows the data table\n",
    "data"
   ]
  },
  {
   "cell_type": "markdown",
   "metadata": {},
   "source": [
    "## Code Box 3"
   ]
  },
  {
   "cell_type": "code",
   "execution_count": 5,
   "metadata": {},
   "outputs": [
    {
     "data": {
      "image/png": "[encoded data removed]",
      "text/plain": [
       "<matplotlib.figure.Figure at 0x1e13f50be10>"
      ]
     },
     "metadata": {},
     "output_type": "display_data"
    }
   ],
   "source": [
    "# this plots the data in the table\n",
    "ax = data.plot.line(y='object 1 distance (m)',xlim=[0,6], ylim=[0,10],grid=True)\n",
    "ax = data.plot.line(y='object 2 distance (m)', ax=ax)\n",
    "ax.set(xlabel=\"time (s)\", ylabel=\"distance (m)\", title=\"Speed Comparison\");"
   ]
  },
  {
   "cell_type": "markdown",
   "metadata": {},
   "source": [
    "## Code Box 4"
   ]
  },
  {
   "cell_type": "code",
   "execution_count": 6,
   "metadata": {},
   "outputs": [
    {
     "data": {
      "text/html": [
       "<div>\n",
       "<style scoped>\n",
       "    .dataframe tbody tr th:only-of-type {\n",
       "        vertical-align: middle;\n",
       "    }\n",
       "\n",
       "    .dataframe tbody tr th {\n",
       "        vertical-align: top;\n",
       "    }\n",
       "\n",
       "    .dataframe thead th {\n",
       "        text-align: right;\n",
       "    }\n",
       "</style>\n",
       "<table border=\"1\" class=\"dataframe\">\n",
       "  <thead>\n",
       "    <tr style=\"text-align: right;\">\n",
       "      <th></th>\n",
       "      <th>time at 5 meters</th>\n",
       "      <th>time at 10 meters</th>\n",
       "    </tr>\n",
       "  </thead>\n",
       "  <tbody>\n",
       "    <tr>\n",
       "      <th>car_A</th>\n",
       "      <td>1</td>\n",
       "      <td>2</td>\n",
       "    </tr>\n",
       "    <tr>\n",
       "      <th>car_B</th>\n",
       "      <td>3</td>\n",
       "      <td>4</td>\n",
       "    </tr>\n",
       "    <tr>\n",
       "      <th>car_C</th>\n",
       "      <td>5</td>\n",
       "      <td>6</td>\n",
       "    </tr>\n",
       "    <tr>\n",
       "      <th>car_D</th>\n",
       "      <td>7</td>\n",
       "      <td>8</td>\n",
       "    </tr>\n",
       "  </tbody>\n",
       "</table>\n",
       "</div>"
      ],
      "text/plain": [
       "       time at 5 meters  time at 10 meters\n",
       "car_A                 1                  2\n",
       "car_B                 3                  4\n",
       "car_C                 5                  6\n",
       "car_D                 7                  8"
      ]
     },
     "execution_count": 6,
     "metadata": {},
     "output_type": "execute_result"
    }
   ],
   "source": [
    "# this creates a data table called \"data2\"\n",
    "data2 = pd.DataFrame(columns=['time at 5 meters', 'time at 10 meters'], index=['car_A','car_B','car_C','car_D'])\n",
    "data2.loc['car_A'] = pd.Series({'time at 5 meters': 1, 'time at 10 meters': 2})\n",
    "data2.loc['car_B'] = pd.Series({'time at 5 meters': 3, 'time at 10 meters': 4})\n",
    "data2.loc['car_C'] = pd.Series({'time at 5 meters': 5, 'time at 10 meters': 6})\n",
    "data2.loc['car_D'] = pd.Series({'time at 5 meters': 7, 'time at 10 meters': 8})\n",
    "# this shows the data table\n",
    "data2"
   ]
  },
  {
   "cell_type": "markdown",
   "metadata": {},
   "source": [
    "## Code Box 5"
   ]
  },
  {
   "cell_type": "code",
   "execution_count": 8,
   "metadata": {},
   "outputs": [
    {
     "data": {
      "image/png": "[encoded data removed]",
      "text/plain": [
       "<matplotlib.figure.Figure at 0x1e13fcc2400>"
      ]
     },
     "metadata": {},
     "output_type": "display_data"
    }
   ],
   "source": [
    "# selects the data to plot\n",
    "data2[\"average speed (m/s)\"] = ((data2[\"time at 5 meters\"]/5) + (data2[\"time at 10 meters\"]/10))/2\n",
    "datawewant = {'dist': [0, 10], \\\n",
    "        'car_A_time': [0, 10*data2.at[('car_A', 'average speed (m/s)')]], \\\n",
    "        'car_B_time': [0, 10*data2.at[('car_B', 'average speed (m/s)')]], \\\n",
    "        'car_C_time': [0, 10*data2.at[('car_C', 'average speed (m/s)')]], \\\n",
    "        'car_D_time': [0, 10*data2.at[('car_D', 'average speed (m/s)')]]}\n",
    "plotdata = pd.DataFrame.from_dict(datawewant)\n",
    "\n",
    "# plots the data\n",
    "ax = plotdata.plot(x='car_A_time',y='dist', label=\"car A\")\n",
    "plotdata.plot(x='car_B_time',y='dist', label=\"car B\", ax=ax)\n",
    "plotdata.plot(x='car_C_time',y='dist', label=\"car C\", ax=ax)\n",
    "plotdata.plot(x='car_D_time',y='dist', label=\"car D\", ax=ax)\n",
    "ax.set(xlabel=\"time (s)\", ylabel=\"distance (m)\", title=\"Speed Comparison\");"
   ]
  }
 ],
 "metadata": {
  "kernelspec": {
   "display_name": "Python 3",
   "language": "python",
   "name": "python3"
  },
  "language_info": {
   "codemirror_mode": {
    "name": "ipython",
    "version": 3
   },
   "file_extension": ".py",
   "mimetype": "text/x-python",
   "name": "python",
   "nbconvert_exporter": "python",
   "pygments_lexer": "ipython3",
   "version": "3.6.5"
  }
 },
 "nbformat": 4,
 "nbformat_minor": 1
}
