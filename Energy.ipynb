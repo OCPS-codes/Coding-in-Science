{
 "cells": [
  {
   "cell_type": "markdown",
   "metadata": {},
   "source": [
    "# Energy Conservation in Physics\n",
    "We know from the Law of Conservation of Energy that energy cannot be created or destroyed. Energy can change forms, however the sum of any change in energy is always zero!\n",
    "\n",
    "**Note: If for any reason you need to Restart the Kernel you will need to rerun Code Box 1**"
   ]
  },
  {
   "cell_type": "markdown",
   "metadata": {},
   "source": [
    "## Code Box 1"
   ]
  },
  {
   "cell_type": "code",
   "execution_count": 5,
   "metadata": {},
   "outputs": [],
   "source": [
    "# By pressing SHIFT+enter to run the code within this box  we will import files that contain functions and data we will need. \n",
    "import pandas as pd\n",
    "import numpy as np\n",
    "%matplotlib inline\n",
    "import matplotlib.pyplot as plt"
   ]
  },
  {
   "cell_type": "markdown",
   "metadata": {},
   "source": [
    "# Objective\n",
    "\n",
    "We have imported the functions and data we need for this lab.  Next, we will now work to manipulate our code to show the relationship between KE and GPE. We will be changing the code in **Code Box 2** to demonstrate three individual scenarios."
   ]
  },
  {
   "cell_type": "markdown",
   "metadata": {},
   "source": [
    "## Code Box 2"
   ]
  },
  {
   "cell_type": "code",
   "execution_count": 8,
   "metadata": {},
   "outputs": [
    {
     "name": "stdout",
     "output_type": "stream",
     "text": [
      "Kinetic Energy (KE) at the beginning = 0 J\n",
      "Gravitational Potential Energy (GPE) at the beginning = 1 J\n",
      "Total Energy at the beginning = 1 J\n"
     ]
    }
   ],
   "source": [
    "# Kinetic energy, in Joules (J)\n",
    "KE = 0\n",
    "\n",
    "# Potential energy due to gravity, in Joules (J)\n",
    "GPE = 0\n",
    "\n",
    "# Total energy\n",
    "total_energy = KE + GPE\n",
    "\n",
    "print (\"Kinetic Energy (KE) at the beginning =\", KE, \"J\")\n",
    "print (\"Gravitational Potential Energy (GPE) at the beginning =\", GPE, \"J\")\n",
    "print (\"Total Energy at the beginning =\", total_energy, \"J\")"
   ]
  },
  {
   "cell_type": "markdown",
   "metadata": {},
   "source": [
    "## Creating your data table & graph\n",
    "Now, edit the cell below with energy values. Then press shift+ENTER so the program knows about the new values."
   ]
  },
  {
   "cell_type": "markdown",
   "metadata": {},
   "source": [
    "## Code Box 3"
   ]
  },
  {
   "cell_type": "code",
   "execution_count": 9,
   "metadata": {},
   "outputs": [
    {
     "data": {
      "text/html": [
       "<div>\n",
       "<style scoped>\n",
       "    .dataframe tbody tr th:only-of-type {\n",
       "        vertical-align: middle;\n",
       "    }\n",
       "\n",
       "    .dataframe tbody tr th {\n",
       "        vertical-align: top;\n",
       "    }\n",
       "\n",
       "    .dataframe thead th {\n",
       "        text-align: right;\n",
       "    }\n",
       "</style>\n",
       "<table border=\"1\" class=\"dataframe\">\n",
       "  <thead>\n",
       "    <tr style=\"text-align: right;\">\n",
       "      <th></th>\n",
       "      <th>Location</th>\n",
       "      <th>KE</th>\n",
       "      <th>GPE</th>\n",
       "    </tr>\n",
       "  </thead>\n",
       "  <tbody>\n",
       "    <tr>\n",
       "      <th>0</th>\n",
       "      <td>beginning</td>\n",
       "      <td>25</td>\n",
       "      <td>0</td>\n",
       "    </tr>\n",
       "    <tr>\n",
       "      <th>1</th>\n",
       "      <td>middle</td>\n",
       "      <td>15</td>\n",
       "      <td>10</td>\n",
       "    </tr>\n",
       "    <tr>\n",
       "      <th>2</th>\n",
       "      <td>end</td>\n",
       "      <td>0</td>\n",
       "      <td>25</td>\n",
       "    </tr>\n",
       "  </tbody>\n",
       "</table>\n",
       "</div>"
      ],
      "text/plain": [
       "    Location  KE  GPE\n",
       "0  beginning  25    0\n",
       "1     middle  15   10\n",
       "2        end   0   25"
      ]
     },
     "execution_count": 9,
     "metadata": {},
     "output_type": "execute_result"
    }
   ],
   "source": [
    "# beginning\n",
    "# Replace the value for KE_beginning by deleting 0 and entering the value for KE you got in Question 3.\n",
    "# Replace the value for GPE_beginning by deleting 0 and entering the value for GPE you got in Question 2.\n",
    "\n",
    "KE_beginning = 25\n",
    "GPE_beginning = 0\n",
    "\n",
    "# middle\n",
    "# Replace the value for KE_middle by deleting 0 and entering the value for KE given in Question 6.\n",
    "# Replace the value for GPE_middle by deleting 0 and entering the value for GPE you got in Question 6.\n",
    "\n",
    "KE_middle = 15\n",
    "GPE_middle = 10\n",
    "\n",
    "# end\n",
    "# Replace the value for KE_end by deleting 0 and entering the value for KE given in Question 7.\n",
    "# Replace the value for GPE_end by deleting 0 and entering the value for GPE you got in Question 9.\n",
    "\n",
    "KE_end = 0\n",
    "GPE_end = 25\n",
    "\n",
    "# this makes a data table\n",
    "data = pd.DataFrame([[\"beginning\", KE_beginning, GPE_beginning],\\\n",
    "                     [\"middle\", KE_middle, GPE_middle],\\\n",
    "                     [\"end\", KE_end, GPE_end]],\\\n",
    "                    columns=['Location', 'KE', 'GPE'])\n",
    "\n",
    "# this displays the data table\n",
    "data"
   ]
  },
  {
   "cell_type": "markdown",
   "metadata": {},
   "source": [
    "## Code Box 4"
   ]
  },
  {
   "cell_type": "code",
   "execution_count": 10,
   "metadata": {},
   "outputs": [
    {
     "data": {
      "image/png": "[encoded data removed]",
      "text/plain": [
       "<matplotlib.figure.Figure at 0x15663323e10>"
      ]
     },
     "metadata": {},
     "output_type": "display_data"
    }
   ],
   "source": [
    "ax = data.plot(kind='bar', x= data.Location, stacked=True, color=['gray', 'blue'])\n",
    "ax.set_ylabel(\"Energy (J)\")\n",
    "ax.set_title(\"title?\");"
   ]
  }
 ],
 "metadata": {
  "kernelspec": {
   "display_name": "Python 3",
   "language": "python",
   "name": "python3"
  },
  "language_info": {
   "codemirror_mode": {
    "name": "ipython",
    "version": 3
   },
   "file_extension": ".py",
   "mimetype": "text/x-python",
   "name": "python",
   "nbconvert_exporter": "python",
   "pygments_lexer": "ipython3",
   "version": "3.6.4"
  }
 },
 "nbformat": 4,
 "nbformat_minor": 2
}
