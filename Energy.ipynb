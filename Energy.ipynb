{
  "nbformat": 4,
  "nbformat_minor": 0,
  "metadata": {
    "colab": {
      "name": "Energy.ipynb",
      "version": "0.3.2",
      "provenance": []
    },
    "kernelspec": {
      "display_name": "Python 3",
      "language": "python",
      "name": "python3"
    }
  },
  "cells": [
    {
      "cell_type": "markdown",
      "metadata": {
        "id": "jRmWyppw51Rw",
        "colab_type": "text"
      },
      "source": [
        "\n",
        "\n",
        "##  In Case of Emergency - If you break the code and want a fresh start...\n",
        "### 1.   Click on File\n",
        "###  2.   Click o n Open Notebook\n",
        "### 3.   Click on GitHub \n",
        "### 4. Search ocps-codes wthin the GitHub tab\n",
        "### 5.   Open the appropriate Coding Notebook\n",
        "\n",
        "\n",
        "---\n",
        "\n",
        "# Energy Conservation in Physics\n",
        "\n",
        "We know from the Law of Conservation of Energy that energy cannot be created or destroyed. Energy can change forms, however the sum of any change in energy is always zero!"
      ]
    },
    {
      "cell_type": "markdown",
      "metadata": {
        "id": "HxTfINhp51Rx",
        "colab_type": "text"
      },
      "source": [
        "## Code Box 1"
      ]
    },
    {
      "cell_type": "code",
      "metadata": {
        "id": "_nWQ7yyh51Ry",
        "colab_type": "code",
        "colab": {
          "base_uri": "https://localhost:8080/",
          "height": 119
        },
        "outputId": "01f01141-6330-4094-cd31-ab4566e25942"
      },
      "source": [
        "# By pressing SHIFT+enter to run the code within this box  we will import files that contain functions and data we will need. \n",
        "import pandas as pd\n",
        "import numpy as np\n",
        "%matplotlib inline\n",
        "import matplotlib.pyplot as plt\n",
        "from types import ModuleType\n",
        "plt.rcParams['figure.figsize'] = (10,10)\n",
        "print('pandas loaded: {}'.format(isinstance(pd, ModuleType)))\n",
        "print('numpy loaded: {}'.format(isinstance(np, ModuleType)))\n",
        "print('matplotlib.pyplot loaded: {}'.format(isinstance(plt, ModuleType)))"
      ],
      "execution_count": 2,
      "outputs": [
        {
          "output_type": "stream",
          "text": [
            "pandas loaded: True\n",
            "numpy loaded: True\n",
            "matplotlib.pyplot loaded: True\n",
            "pandas loaded: True\n",
            "numpy loaded: True\n",
            "matplotlib.pyplot loaded: True\n"
          ],
          "name": "stdout"
        }
      ]
    },
    {
      "cell_type": "markdown",
      "metadata": {
        "id": "JpsbVbSv51R1",
        "colab_type": "text"
      },
      "source": [
        "# Objective\n",
        "\n",
        "We have imported the functions and data we need for this lab.  Next, we will now work to manipulate our code to show the relationship between KE and GPE. We will be changing the code in **Code Box 2** to demonstrate three individual scenarios."
      ]
    },
    {
      "cell_type": "markdown",
      "metadata": {
        "id": "j_9kH8gc51R1",
        "colab_type": "text"
      },
      "source": [
        "## Code Box 2"
      ]
    },
    {
      "cell_type": "code",
      "metadata": {
        "id": "GilSJCF251R2",
        "colab_type": "code",
        "colab": {
          "base_uri": "https://localhost:8080/",
          "height": 68
        },
        "outputId": "0eb9ad61-5dab-4177-888d-170e862b01e8"
      },
      "source": [
        "# Kinetic energy, in Joules (J)\n",
        "KE = 0\n",
        "\n",
        "# Potential energy due to gravity, in Joules (J)\n",
        "GPE = 0\n",
        "\n",
        "# Total energy\n",
        "total_energy = KE + GPE\n",
        "\n",
        "print (\"Kinetic Energy (KE) at the beginning =\", KE, \"J\")\n",
        "print (\"Gravitational Potential Energy (GPE) at the beginning =\", GPE, \"J\")\n",
        "print (\"Total Energy at the beginning =\", total_energy, \"J\")"
      ],
      "execution_count": 3,
      "outputs": [
        {
          "output_type": "stream",
          "text": [
            "Kinetic Energy (KE) at the beginning = 0 J\n",
            "Gravitational Potential Energy (GPE) at the beginning = 0 J\n",
            "Total Energy at the beginning = 0 J\n"
          ],
          "name": "stdout"
        }
      ]
    },
    {
      "cell_type": "markdown",
      "metadata": {
        "id": "a7KMia9451R6",
        "colab_type": "text"
      },
      "source": [
        "## Creating your data table & graph\n",
        "Now, edit the cell below with energy values. Then press shift+ENTER so the program knows about the new values."
      ]
    },
    {
      "cell_type": "markdown",
      "metadata": {
        "id": "SNMXiG1R51R6",
        "colab_type": "text"
      },
      "source": [
        "## Code Box 3"
      ]
    },
    {
      "cell_type": "code",
      "metadata": {
        "id": "Z01VjAD_51R8",
        "colab_type": "code",
        "colab": {
          "base_uri": "https://localhost:8080/",
          "height": 142
        },
        "outputId": "66a047df-52c7-4bff-bb7e-67afd2933a64"
      },
      "source": [
        "# beginning\n",
        "# Replace the value for KE_beginning by deleting 0 and entering the value for KE you got in Question 3.\n",
        "# Replace the value for GPE_beginning by deleting 0 and entering the value for GPE you got in Question 2.\n",
        "\n",
        "KE_beginning = 0\n",
        "GPE_beginning = 15\n",
        "\n",
        "# middle\n",
        "# Replace the value for KE_middle by deleting 0 and entering the value for KE given in Question 6.\n",
        "# Replace the value for GPE_middle by deleting 0 and entering the value for GPE you got in Question 6.\n",
        "\n",
        "KE_middle = 7\n",
        "GPE_middle = 8\n",
        "\n",
        "# end\n",
        "# Replace the value for KE_end by deleting 0 and entering the value for KE given in Question 7.\n",
        "# Replace the value for GPE_end by deleting 0 and entering the value for GPE you got in Question 9.\n",
        "\n",
        "KE_end = 15\n",
        "GPE_end = 0\n",
        "\n",
        "\n",
        "# this makes a data table\n",
        "data = pd.DataFrame([[\"beginning\", KE_beginning, GPE_beginning],\\\n",
        "                     [\"middle\", KE_middle, GPE_middle],\\\n",
        "                     [\"end\", KE_end, GPE_end]],\\\n",
        "                    columns=['Location', 'KE', 'GPE'] )\n",
        "\n",
        "\n",
        "\n",
        "# this displays the data table\n",
        "data"
      ],
      "execution_count": 61,
      "outputs": [
        {
          "output_type": "execute_result",
          "data": {
            "text/html": [
              "<div>\n",
              "<style scoped>\n",
              "    .dataframe tbody tr th:only-of-type {\n",
              "        vertical-align: middle;\n",
              "    }\n",
              "\n",
              "    .dataframe tbody tr th {\n",
              "        vertical-align: top;\n",
              "    }\n",
              "\n",
              "    .dataframe thead th {\n",
              "        text-align: right;\n",
              "    }\n",
              "</style>\n",
              "<table border=\"1\" class=\"dataframe\">\n",
              "  <thead>\n",
              "    <tr style=\"text-align: right;\">\n",
              "      <th></th>\n",
              "      <th>Location</th>\n",
              "      <th>KE</th>\n",
              "      <th>GPE</th>\n",
              "    </tr>\n",
              "  </thead>\n",
              "  <tbody>\n",
              "    <tr>\n",
              "      <th>0</th>\n",
              "      <td>beginning</td>\n",
              "      <td>0</td>\n",
              "      <td>15</td>\n",
              "    </tr>\n",
              "    <tr>\n",
              "      <th>1</th>\n",
              "      <td>middle</td>\n",
              "      <td>7</td>\n",
              "      <td>8</td>\n",
              "    </tr>\n",
              "    <tr>\n",
              "      <th>2</th>\n",
              "      <td>end</td>\n",
              "      <td>15</td>\n",
              "      <td>0</td>\n",
              "    </tr>\n",
              "  </tbody>\n",
              "</table>\n",
              "</div>"
            ],
            "text/plain": [
              "    Location  KE  GPE\n",
              "0  beginning   0   15\n",
              "1     middle   7    8\n",
              "2        end  15    0"
            ]
          },
          "metadata": {
            "tags": []
          },
          "execution_count": 61
        }
      ]
    },
    {
      "cell_type": "markdown",
      "metadata": {
        "id": "KkFFLlks51R9",
        "colab_type": "text"
      },
      "source": [
        "## Code Box 4"
      ]
    },
    {
      "cell_type": "code",
      "metadata": {
        "id": "kogYm6AS51R-",
        "colab_type": "code",
        "colab": {
          "base_uri": "https://localhost:8080/",
          "height": 626
        },
        "outputId": "c5889bee-90e2-4004-b57c-803b1f9aa800"
      },
      "source": [
        "string = \"title?\"\n",
        "\n",
        "new_string = string.center(24)\n",
        "\n",
        "print(\"                          \", new_string)\n",
        "\n",
        "beginning = [25, 0]\n",
        "middle = [25, 0]\n",
        "end= [0, 25]\n",
        "ax = data.plot.bar(x='Location', rot=0)"
      ],
      "execution_count": 57,
      "outputs": [
        {
          "output_type": "stream",
          "text": [
            "                                    title?         \n"
          ],
          "name": "stdout"
        },
        {
          "output_type": "display_data",
          "data": {
            "image/png": "[encoded data removed]",
            "text/plain": [
              "<Figure size 720x720 with 1 Axes>"
            ]
          },
          "metadata": {
            "tags": []
          }
        }
      ]
    },
    {
      "cell_type": "code",
      "metadata": {
        "id": "rdZrhjpCJxbw",
        "colab_type": "code",
        "colab": {}
      },
      "source": [
        ""
      ],
      "execution_count": 0,
      "outputs": []
    }
  ]
}