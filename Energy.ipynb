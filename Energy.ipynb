{
 "cells": [
  {
   "cell_type": "markdown",
   "metadata": {},
   "source": [
    "# Energy Conservation in Physics\n",
    "We know from the Law of Conservation of Energy that energy cannot be created or destroyed. Energy can change forms, however the sum of any change in energy is always zero!\n",
    "\n",
    "To get started,\n",
    "- First, click the disc icon at the top to save the notebook. That makes it easier to start over later if you need to.\n",
    "- Go to the menu bar above and select **Kernel > Restart & Run All**.\n",
    "- You won't hurt anything by experimenting. If you break it, go to **File > Revert to checkpoint** to start over."
   ]
  },
  {
   "cell_type": "code",
   "execution_count": 1,
   "metadata": {},
   "outputs": [],
   "source": [
    "# Import modules that contain functions we need\n",
    "import pandas as pd\n",
    "import numpy as np\n",
    "%matplotlib inline\n",
    "import matplotlib.pyplot as plt"
   ]
  },
  {
   "cell_type": "markdown",
   "metadata": {},
   "source": [
    "## Part One\n",
    "In the cell below, you can change the values for kinetic and potential energy. Then press shift+ENTER so the program knows about the new values."
   ]
  },
  {
   "cell_type": "code",
   "execution_count": 2,
   "metadata": {},
   "outputs": [
    {
     "name": "stdout",
     "output_type": "stream",
     "text": [
      "Kinetic Energy (KE) at the beginning = 5 J\n",
      "Gravitational Potential Energy (GPE) at the beginning = 5 J\n",
      "Total Energy at the beginning = 10 J\n"
     ]
    }
   ],
   "source": [
    "# Kinetic energy, in Joules (J)\n",
    "KE_i = 5\n",
    "\n",
    "# Potential energy due to gravity, in Joules (J)\n",
    "GPE_i = 5\n",
    "\n",
    "# Total energy\n",
    "TotalE_i = KE_i + GPE_i\n",
    "\n",
    "print (\"Kinetic Energy (KE) at the beginning =\", KE_i, \"J\")\n",
    "print (\"Gravitational Potential Energy (GPE) at the beginning =\", GPE_i, \"J\")\n",
    "print (\"Total Energy at the beginning =\", TotalE_i, \"J\")"
   ]
  },
  {
   "cell_type": "markdown",
   "metadata": {},
   "source": [
    "## Part Two\n",
    "Now, edit the cell below with values for *final* energy. Then press shift+ENTER so the program knows about the new values."
   ]
  },
  {
   "cell_type": "code",
   "execution_count": 3,
   "metadata": {},
   "outputs": [
    {
     "name": "stdout",
     "output_type": "stream",
     "text": [
      "Kinetic Energy (KE) at the end = 9 J\n",
      "Gravitational Potential Energy (GPE) at the end = 1 J\n",
      "Total Energy at the end = 10 J\n"
     ]
    }
   ],
   "source": [
    "# Kinetic energy, in Joules (J)\n",
    "KE_f = 9\n",
    "\n",
    "# Potential energy due to gravity, in Joules (J)\n",
    "GPE_f = 1\n",
    "\n",
    "# Total energy\n",
    "TotalE_f = KE_f + GPE_f\n",
    "\n",
    "print (\"Kinetic Energy (KE) at the end =\", KE_f, \"J\")\n",
    "print (\"Gravitational Potential Energy (GPE) at the end =\", GPE_f, \"J\")\n",
    "print (\"Total Energy at the end =\", TotalE_f, \"J\")"
   ]
  },
  {
   "cell_type": "code",
   "execution_count": 6,
   "metadata": {},
   "outputs": [
    {
     "data": {
      "text/html": [
       "<div>\n",
       "<style scoped>\n",
       "    .dataframe tbody tr th:only-of-type {\n",
       "        vertical-align: middle;\n",
       "    }\n",
       "\n",
       "    .dataframe tbody tr th {\n",
       "        vertical-align: top;\n",
       "    }\n",
       "\n",
       "    .dataframe thead th {\n",
       "        text-align: right;\n",
       "    }\n",
       "</style>\n",
       "<table border=\"1\" class=\"dataframe\">\n",
       "  <thead>\n",
       "    <tr style=\"text-align: right;\">\n",
       "      <th></th>\n",
       "      <th>Location</th>\n",
       "      <th>KE</th>\n",
       "      <th>GPE</th>\n",
       "    </tr>\n",
       "  </thead>\n",
       "  <tbody>\n",
       "    <tr>\n",
       "      <th>0</th>\n",
       "      <td>initial</td>\n",
       "      <td>5</td>\n",
       "      <td>5</td>\n",
       "    </tr>\n",
       "    <tr>\n",
       "      <th>1</th>\n",
       "      <td>final</td>\n",
       "      <td>9</td>\n",
       "      <td>1</td>\n",
       "    </tr>\n",
       "  </tbody>\n",
       "</table>\n",
       "</div>"
      ],
      "text/plain": [
       "  Location  KE  GPE\n",
       "0  initial   5    5\n",
       "1    final   9    1"
      ]
     },
     "execution_count": 6,
     "metadata": {},
     "output_type": "execute_result"
    }
   ],
   "source": [
    "# this makes a data table\n",
    "data = pd.DataFrame([[\"initial\", KE_i, GPE_i], [\"final\", KE_f, GPE_f]], columns=['Location', 'KE', 'GPE'])\n",
    "\n",
    "# this displays the data table\n",
    "data"
   ]
  },
  {
   "cell_type": "markdown",
   "metadata": {},
   "source": [
    "## Part Three\n",
    "Edit the cell below to give the chart a better title. Then press shift+ENTER and see how your graph changes."
   ]
  },
  {
   "cell_type": "code",
   "execution_count": 12,
   "metadata": {},
   "outputs": [
    {
     "data": {
      "image/png": "[encoded data removed]",
      "text/plain": [
       "<matplotlib.figure.Figure at 0x119892a90>"
      ]
     },
     "metadata": {},
     "output_type": "display_data"
    }
   ],
   "source": [
    "ax = data.plot(kind='bar', x= data.Location, stacked=True, color=['gray', 'blue'])\n",
    "ax.set_ylabel(\"Energy (J)\")\n",
    "ax.set_title(\"My favorite chart\");"
   ]
  },
  {
   "cell_type": "code",
   "execution_count": null,
   "metadata": {},
   "outputs": [],
   "source": []
  }
 ],
 "metadata": {
  "kernelspec": {
   "display_name": "Python 3",
   "language": "python",
   "name": "python3"
  },
  "language_info": {
   "codemirror_mode": {
    "name": "ipython",
    "version": 3
   },
   "file_extension": ".py",
   "mimetype": "text/x-python",
   "name": "python",
   "nbconvert_exporter": "python",
   "pygments_lexer": "ipython3",
   "version": "3.5.2"
  }
 },
 "nbformat": 4,
 "nbformat_minor": 2
}
