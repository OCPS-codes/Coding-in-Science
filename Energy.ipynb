{
  "nbformat": 4,
  "nbformat_minor": 0,
  "metadata": {
    "colab": {
      "name": "Energy.ipynb",
      "version": "0.3.2",
      "provenance": []
    },
    "kernelspec": {
      "display_name": "Python 3",
      "language": "python",
      "name": "python3"
    }
  },
  "cells": [
    {
      "cell_type": "markdown",
      "metadata": {
        "id": "jRmWyppw51Rw",
        "colab_type": "text"
      },
      "source": [
        "##  In Case of Emergency - If you break the code and want a fresh start...\n",
        "### 1.   Click the *Refresh/Reload button* in your browser \n",
        "\n",
        "\n",
        "---\n",
        "\n",
        "# Energy Conservation in Physics\n",
        "\n",
        "We know from the Law of Conservation of Energy that energy cannot be created or destroyed. Energy can change forms, however the sum of any change in energy is always zero!"
      ]
    },
    {
      "cell_type": "markdown",
      "metadata": {
        "id": "HxTfINhp51Rx",
        "colab_type": "text"
      },
      "source": [
        "## Code Box 1"
      ]
    },
    {
      "cell_type": "code",
      "metadata": {
        "id": "_nWQ7yyh51Ry",
        "colab_type": "code",
        "colab": {}
      },
      "source": [
        "# By pressing SHIFT+enter to run the code within this box  we will import files that contain functions and data we will need. \n",
        "import pandas as pd\n",
        "import numpy as np\n",
        "%matplotlib inline\n",
        "import matplotlib.pyplot as plt\n",
        "from types import ModuleType\n",
        "plt.rcParams['figure.figsize'] = (10,10)\n",
        "print('pandas loaded: {}'.format(isinstance(pd, ModuleType)))\n",
        "print('numpy loaded: {}'.format(isinstance(np, ModuleType)))\n",
        "print('matplotlib.pyplot loaded: {}'.format(isinstance(plt, ModuleType)))"
      ],
      "execution_count": 0,
      "outputs": []
    },
    {
      "cell_type": "markdown",
      "metadata": {
        "id": "JpsbVbSv51R1",
        "colab_type": "text"
      },
      "source": [
        "# Objective\n",
        "\n",
        "We have imported the functions and data we need for this lab.  Next, we will now work to manipulate our code to show the relationship between KE and GPE. We will be changing the code in **Code Box 2** to demonstrate three individual scenarios."
      ]
    },
    {
      "cell_type": "markdown",
      "metadata": {
        "id": "j_9kH8gc51R1",
        "colab_type": "text"
      },
      "source": [
        "## Code Box 2"
      ]
    },
    {
      "cell_type": "code",
      "metadata": {
        "id": "GilSJCF251R2",
        "colab_type": "code",
        "colab": {}
      },
      "source": [
        "# Kinetic energy, in Joules (J)\n",
        "KE = 0\n",
        "\n",
        "# Potential energy due to gravity, in Joules (J)\n",
        "GPE = 0\n",
        "\n",
        "# Total energy\n",
        "total_energy = KE + GPE\n",
        "\n",
        "print (\"Kinetic Energy (KE) at the beginning =\", KE, \"J\")\n",
        "print (\"Gravitational Potential Energy (GPE) at the beginning =\", GPE, \"J\")\n",
        "print (\"Total Energy at the beginning =\", total_energy, \"J\")"
      ],
      "execution_count": 0,
      "outputs": []
    },
    {
      "cell_type": "markdown",
      "metadata": {
        "id": "a7KMia9451R6",
        "colab_type": "text"
      },
      "source": [
        "## Creating your data table & graph\n",
        "Now, edit the cell below with energy values. Then press shift+ENTER so the program knows about the new values."
      ]
    },
    {
      "cell_type": "markdown",
      "metadata": {
        "id": "SNMXiG1R51R6",
        "colab_type": "text"
      },
      "source": [
        "## Code Box 3"
      ]
    },
    {
      "cell_type": "code",
      "metadata": {
        "id": "Z01VjAD_51R8",
        "colab_type": "code",
        "colab": {}
      },
      "source": [
        "# beginning\n",
        "# Replace the value for KE_beginning by deleting 0 and entering the value for KE you got in Question 3.\n",
        "# Replace the value for GPE_beginning by deleting 0 and entering the value for GPE you got in Question 2.\n",
        "\n",
        "KE_beginning = 0\n",
        "GPE_beginning = 0\n",
        "\n",
        "# middle\n",
        "# Replace the value for KE_middle by deleting 0 and entering the value for KE given in Question 6.\n",
        "# Replace the value for GPE_middle by deleting 0 and entering the value for GPE you got in Question 6.\n",
        "\n",
        "KE_middle = 0\n",
        "GPE_middle = 0\n",
        "\n",
        "# end\n",
        "# Replace the value for KE_end by deleting 0 and entering the value for KE given in Question 7.\n",
        "# Replace the value for GPE_end by deleting 0 and entering the value for GPE you got in Question 9.\n",
        "\n",
        "KE_end = 0\n",
        "GPE_end = 0\n",
        "\n",
        "\n",
        "# this makes a data table\n",
        "data = pd.DataFrame([[\"beginning\", KE_beginning, GPE_beginning],\\\n",
        "                     [\"middle\", KE_middle, GPE_middle],\\\n",
        "                     [\"end\", KE_end, GPE_end]],\\\n",
        "                    columns=['Location', 'KE', 'GPE'] )\n",
        "\n",
        "\n",
        "\n",
        "# this displays the data table\n",
        "data"
      ],
      "execution_count": 0,
      "outputs": []
    },
    {
      "cell_type": "markdown",
      "metadata": {
        "id": "KkFFLlks51R9",
        "colab_type": "text"
      },
      "source": [
        "## Code Box 4"
      ]
    },
    {
      "cell_type": "code",
      "metadata": {
        "id": "kogYm6AS51R-",
        "colab_type": "code",
        "colab": {}
      },
      "source": [
        "string = \"title?\"\n",
        "\n",
        "new_string = string.center(24)\n",
        "\n",
        "print(\"                          \", new_string)\n",
        "\n",
        "beginning = [25, 0]\n",
        "middle = [25, 0]\n",
        "end= [0, 25]\n",
        "ax = data.plot.bar(x='Location', rot=0)"
      ],
      "execution_count": 0,
      "outputs": []
    }
  ]
}