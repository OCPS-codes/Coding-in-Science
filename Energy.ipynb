{
 "cells": [
  {
   "cell_type": "markdown",
   "metadata": {},
   "source": [
    "# Energy Conservation in Physics\n",
    "We know from the Law of Conservation of Energy that energy cannot be created or destroyed. Energy can change forms, however the sum of any change in energy is always zero!\n",
    "\n",
    "To get started,\n",
    "- First, click the disc icon at the top to save the notebook. That makes it easier to start over later if you need to.\n",
    "- Go to the menu bar above and select **Kernel > Restart & Run All**.\n",
    "- You won't hurt anything by experimenting. If you break it, go to **File > Revert to checkpoint** to start over."
   ]
  },
  {
   "cell_type": "code",
   "execution_count": 2,
   "metadata": {},
   "outputs": [],
   "source": [
    "# Import modules that contain functions we need\n",
    "import pandas as pd\n",
    "import numpy as np\n",
    "%matplotlib inline\n",
    "import matplotlib.pyplot as plt"
   ]
  },
  {
   "cell_type": "markdown",
   "metadata": {},
   "source": [
    "## Checking your answers\n",
    "In the cell below, you can change the values for kinetic and potential energy. Then press shift+ENTER so the program knows about the new values."
   ]
  },
  {
   "cell_type": "code",
   "execution_count": 28,
   "metadata": {},
   "outputs": [
    {
     "name": "stdout",
     "output_type": "stream",
     "text": [
      "Kinetic Energy (KE) at the beginning = 0 J\n",
      "Gravitational Potential Energy (GPE) at the beginning = 0 J\n",
      "Total Energy at the beginning = 0 J\n"
     ]
    }
   ],
   "source": [
    "# Kinetic energy, in Joules (J)\n",
    "KE = 0\n",
    "\n",
    "# Potential energy due to gravity, in Joules (J)\n",
    "GPE = 0\n",
    "\n",
    "# Total energy\n",
    "TotalE = KE + GPE\n",
    "\n",
    "print (\"Kinetic Energy (KE) at the beginning =\", KE, \"J\")\n",
    "print (\"Gravitational Potential Energy (GPE) at the beginning =\", GPE, \"J\")\n",
    "print (\"Total Energy at the beginning =\", TotalE, \"J\")"
   ]
  },
  {
   "cell_type": "markdown",
   "metadata": {},
   "source": [
    "## Creating your data table & graph\n",
    "Now, edit the cell below with energy values. Then press shift+ENTER so the program knows about the new values."
   ]
  },
  {
   "cell_type": "code",
   "execution_count": 30,
   "metadata": {},
   "outputs": [
    {
     "data": {
      "text/html": [
       "<div>\n",
       "<style scoped>\n",
       "    .dataframe tbody tr th:only-of-type {\n",
       "        vertical-align: middle;\n",
       "    }\n",
       "\n",
       "    .dataframe tbody tr th {\n",
       "        vertical-align: top;\n",
       "    }\n",
       "\n",
       "    .dataframe thead th {\n",
       "        text-align: right;\n",
       "    }\n",
       "</style>\n",
       "<table border=\"1\" class=\"dataframe\">\n",
       "  <thead>\n",
       "    <tr style=\"text-align: right;\">\n",
       "      <th></th>\n",
       "      <th>Location</th>\n",
       "      <th>KE</th>\n",
       "      <th>GPE</th>\n",
       "    </tr>\n",
       "  </thead>\n",
       "  <tbody>\n",
       "    <tr>\n",
       "      <th>0</th>\n",
       "      <td>beginning</td>\n",
       "      <td>0</td>\n",
       "      <td>0</td>\n",
       "    </tr>\n",
       "    <tr>\n",
       "      <th>1</th>\n",
       "      <td>middle</td>\n",
       "      <td>0</td>\n",
       "      <td>0</td>\n",
       "    </tr>\n",
       "    <tr>\n",
       "      <th>2</th>\n",
       "      <td>end</td>\n",
       "      <td>0</td>\n",
       "      <td>0</td>\n",
       "    </tr>\n",
       "  </tbody>\n",
       "</table>\n",
       "</div>"
      ],
      "text/plain": [
       "    Location  KE  GPE\n",
       "0  beginning   0    0\n",
       "1     middle   0    0\n",
       "2        end   0    0"
      ]
     },
     "execution_count": 30,
     "metadata": {},
     "output_type": "execute_result"
    }
   ],
   "source": [
    "# beginning\n",
    "KE_beginning = 0\n",
    "GPE_beginning = 0\n",
    "\n",
    "# middle\n",
    "KE_middle = 0\n",
    "GPE_middle = 0\n",
    "\n",
    "# end\n",
    "KE_end = 0\n",
    "GPE_end = 0\n",
    "\n",
    "# this makes a data table\n",
    "data = pd.DataFrame([[\"beginning\", KE_beginning, GPE_beginning],\\\n",
    "                     [\"middle\", KE_middle, GPE_middle],\\\n",
    "                     [\"end\", KE_end, GPE_end]],\\\n",
    "                    columns=['Location', 'KE', 'GPE'])\n",
    "\n",
    "# this displays the data table\n",
    "data"
   ]
  },
  {
   "cell_type": "code",
   "execution_count": 31,
   "metadata": {},
   "outputs": [
    {
     "data": {
      "image/png": "[encoded data removed]",
      "text/plain": [
       "<matplotlib.figure.Figure at 0x11988df28>"
      ]
     },
     "metadata": {},
     "output_type": "display_data"
    }
   ],
   "source": [
    "ax = data.plot(kind='bar', x= data.Location, stacked=True, color=['gray', 'blue'])\n",
    "ax.set_ylabel(\"Energy (J)\")\n",
    "ax.set_title(\"title?\");"
   ]
  }
 ],
 "metadata": {
  "kernelspec": {
   "display_name": "Python 3",
   "language": "python",
   "name": "python3"
  },
  "language_info": {
   "codemirror_mode": {
    "name": "ipython",
    "version": 3
   },
   "file_extension": ".py",
   "mimetype": "text/x-python",
   "name": "python",
   "nbconvert_exporter": "python",
   "pygments_lexer": "ipython3",
   "version": "3.5.2"
  }
 },
 "nbformat": 4,
 "nbformat_minor": 2
}
