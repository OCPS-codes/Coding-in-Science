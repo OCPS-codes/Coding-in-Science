{
  "nbformat": 4,
  "nbformat_minor": 0,
  "metadata": {
    "colab": {
      "name": "Punnett Square",
      "version": "0.3.2",
      "provenance": [],
      "collapsed_sections": []
    },
    "language_info": {
      "codemirror_mode": {
        "name": "ipython",
        "version": 3
      },
      "file_extension": ".py",
      "mimetype": "text/x-python",
      "name": "python",
      "nbconvert_exporter": "python",
      "pygments_lexer": "ipython3",
      "version": "3.7.1"
    },
    "kernelspec": {
      "display_name": "Python 3",
      "language": "python",
      "name": "python3"
    }
  },
  "cells": [
    {
      "cell_type": "markdown",
      "metadata": {
        "colab_type": "text",
        "id": "7DIwQmBcebog"
      },
      "source": [
        "##  In Case of Emergency - If you break the code and want a fresh start...\n",
        "### 1.   Click on File\n",
        "###  2.   Click o n Open Notebook\n",
        "### 3.   Click on GitHub \n",
        "### 4. Search ocps-codes within the GitHub tab\n",
        "### 5.   Open the appropriate Coding Notebook\n",
        "\n",
        "\n",
        "\n",
        "---\n",
        "# Punnett Squares\n",
        "In this activity, you'll use a punnett square to discover the likelihood of children inheriting certain genotypes based on the genotypes of their parents.\n",
        "\n",
        "To get started,\n",
        "- You won't hurt anything by experimenting. If you break it, close the tab and open the activity again to start over.\n",
        "- Is this your first time? Need a refresher? Try the 5-minute [Intro to Jupyter activity](./Intro_to_Jupyter.ipynb) and come back here. \n",
        "\n",
        "When you're ready, run each **code box** until you get down to **Questions**.\n",
        "\n",
        "## Code Box 1"
      ]
    },
    {
      "cell_type": "code",
      "metadata": {
        "colab_type": "code",
        "id": "4KZ3j-aKQZeq",
        "colab": {}
      },
      "source": [
        "# We first have to import all the software packages that we'll need.\n",
        "import pandas as pd\n",
        "import numpy as np\n",
        "%matplotlib inline\n",
        "import matplotlib as mpl\n",
        "import matplotlib.pyplot as plt\n",
        "import matplotlib.pyplot as plt\n",
        "from types import ModuleType\n",
        "print('pandas loaded: {}'.format(isinstance(pd, ModuleType)))\n",
        "print('numpy loaded: {}'.format(isinstance(np, ModuleType)))\n",
        "print('matplotlib.pyplot loaded: {}'.format(isinstance(plt, ModuleType)))"
      ],
      "execution_count": 0,
      "outputs": []
    },
    {
      "cell_type": "markdown",
      "metadata": {
        "id": "YYYqgqtWK6W4",
        "colab_type": "text"
      },
      "source": [
        "## Code Box 2"
      ]
    },
    {
      "cell_type": "code",
      "metadata": {
        "id": "SnJIvctdK6W6",
        "colab_type": "code",
        "colab": {}
      },
      "source": [
        "# Information for each parent\n",
        "parent_one = \"Aa\"\n",
        "parent_two = \"aa\"\n",
        "\n",
        "#Color_1 is dominant; Color_2 is recessive\n",
        "color_1 = 'brown'\n",
        "color_2 = 'blue'\n",
        "\n",
        "# This will allow us to check if the genotype is reccesive or dominant\n",
        "def checker(gene):\n",
        "  checker = False\n",
        "  if len(gene) == 2:\n",
        "    if gene[0].isupper() or gene[1].isupper():\n",
        "      color = color_1\n",
        "      return 'color: %s' % color\n",
        "    else:\n",
        "      color = color_2\n",
        "      return 'color: %s' % color\n",
        "  else:\n",
        "    return gene\n",
        "\n",
        "def fix(gene):\n",
        "  if gene[1].isupper() and gene[0].islower():\n",
        "    gene = gene.lower().capitalize()\n",
        "    return gene\n",
        "  else:\n",
        "    return gene\n",
        "\n",
        "# This will pair the genes together into their possible combinations\n",
        "combo_one = fix(parent_one[0]+parent_two[0])\n",
        "combo_two = fix(parent_one[1] + parent_two[0])\n",
        "combo_three = fix(parent_one[0]+parent_two[1])\n",
        "combo_four = fix(parent_one[1]+parent_two[1]) \n",
        "print('Code Box 2 has been run.')"
      ],
      "execution_count": 0,
      "outputs": []
    },
    {
      "cell_type": "markdown",
      "metadata": {
        "colab_type": "text",
        "id": "ZT2ll0mgFVsT"
      },
      "source": [
        "## Code Box 3"
      ]
    },
    {
      "cell_type": "code",
      "metadata": {
        "colab_type": "code",
        "id": "ben8GE8Ud2vl",
        "colab": {}
      },
      "source": [
        "# Now we'll assemble a Punnett square with these values.\n",
        "data =  {1 : [\" \", parent_one[0], parent_one[1]],\n",
        "         2 : [parent_two[0],combo_one,combo_two],\n",
        "         3 : [parent_two[1], combo_three,combo_four]}\n",
        "index = [1,2,3]\n",
        "columns = [1,2,3]\n",
        "frame = pd.DataFrame(data,index=index, columns=columns)\n",
        "\n",
        "# Now let's format the Punnett square a little more to make it so \n",
        "# the color of our genotypes reveal something about the genotypes.\n",
        "styles = [dict(selector=\"th\", props=[(\"color\", \"black\"), (\"font-size\", \"0%\")])]\n",
        "frame.style\\\n",
        "      .applymap(checker, subset=[2, 3])\\\n",
        "      .set_properties(**{'font-size': '20pt',  'text-align': 'center'})\\\n",
        "      .set_table_styles(styles)\\\n",
        "      .set_caption(\"I'm a title\")\n"
      ],
      "execution_count": 0,
      "outputs": []
    },
    {
      "cell_type": "markdown",
      "metadata": {
        "colab_type": "text",
        "id": "p-8PbR7vjRQZ"
      },
      "source": [
        "---\n",
        "## Credits\n",
        "UCF undergraduate Dylan Skelly, who started the development of this notebook, was funded by Orange County Public Schools to make scientific computing a standard part of every middle school science class. This notebook was designed by Adam LaMee, who coordinated its development as the PhysTEC Teacher-in-residence in the University of Central Florida's Physics department.Thanks to the great folks at [Binder](https://mybinder.org/) and [Google Colaboratory](https://www.google.com/url?sa=t&rct=j&q=&esrc=s&source=web&cd=1&cad=rja&uact=8&ved=0ahUKEwjF96bdrO_bAhXD0FMKHUhAA-kQFggpMAA&url=https%3A%2F%2Fcolab.research.google.com%2F&usg=AOvVaw3A5aPK2kLFzKOzb6sOckVw) for making this notebook interactive without you needing to download it or install Jupyter on your own device. Find more activities and license info at [CODINGinK12.org](http://www.codingink12.org)."
      ]
    }
  ]
}