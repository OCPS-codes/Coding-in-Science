{
  "nbformat": 4,
  "nbformat_minor": 0,
  "metadata": {
    "colab": {
      "name": "Distance.ipynb",
      "version": "0.3.2",
      "provenance": []
    },
    "kernelspec": {
      "display_name": "Python 3",
      "language": "python",
      "name": "python3"
    }
  },
  "cells": [
    {
      "cell_type": "markdown",
      "metadata": {
        "id": "e2wIVO94BSCf",
        "colab_type": "text"
      },
      "source": [
        "\n",
        "##  In Case of Emergency - If you break the code and want a fresh start...\n",
        "### 1.   Click the *Refresh/Reload button* in your browser \n",
        "\n",
        "---\n",
        "\n",
        "\n",
        "\n",
        "# Distance Graph Matching\n",
        "\n",
        "In this activity, you'll use the distance function to model different types of motion."
      ]
    },
    {
      "cell_type": "markdown",
      "metadata": {
        "id": "EXRZmiU0BSCf",
        "colab_type": "text"
      },
      "source": [
        "## Code Box 1"
      ]
    },
    {
      "cell_type": "code",
      "metadata": {
        "id": "CJi4IyibBSCg",
        "colab_type": "code",
        "colab": {}
      },
      "source": [
        "# this cell only needs to be run once, but re-exectuing it doesn't hurt anything either\n",
        "# imports software packages (not too exciting)\n",
        "import pandas as pd\n",
        "import numpy as np\n",
        "%matplotlib inline\n",
        "import matplotlib as mpl\n",
        "import matplotlib.pyplot as plt\n",
        "inline_rc = dict(mpl.rcParams)\n",
        "from types import ModuleType\n",
        "print('pandas loaded: {}'.format(isinstance(pd, ModuleType)))\n",
        "print('numpy loaded: {}'.format(isinstance(np, ModuleType)))\n",
        "print('matplotlib loaded: {}'.format(isinstance(mpl, ModuleType)))\n",
        "print('matplotlib.pyplot loaded: {}'.format(isinstance(plt, ModuleType)))"
      ],
      "execution_count": 0,
      "outputs": []
    },
    {
      "cell_type": "markdown",
      "metadata": {
        "id": "hj57GEIJBSCj",
        "colab_type": "text"
      },
      "source": [
        "## Code Box 2"
      ]
    },
    {
      "cell_type": "code",
      "metadata": {
        "id": "97nM3KNDBSCj",
        "colab_type": "code",
        "colab": {}
      },
      "source": [
        "# this creates a data table\n",
        "data = pd.DataFrame()\n",
        "data['time (s)'] = [0,1,2,3,4,5]\n",
        "data['object 1 distance (m)'] = [0,1,2,3,4,5]\n",
        "data['object 2 distance (m)'] = [0,2,4,6,8,10]\n",
        "\n",
        "# this shows the data table\n",
        "data"
      ],
      "execution_count": 0,
      "outputs": []
    },
    {
      "cell_type": "markdown",
      "metadata": {
        "id": "45waweqJBSCo",
        "colab_type": "text"
      },
      "source": [
        "## Code Box 3"
      ]
    },
    {
      "cell_type": "code",
      "metadata": {
        "id": "69p7FTz4BSCo",
        "colab_type": "code",
        "colab": {}
      },
      "source": [
        "# this plots the data in the table\n",
        "ax = data.plot.line(y='object 1 distance (m)',xlim=[0,6], ylim=[0,10],grid=True)\n",
        "ax = data.plot.line(y='object 2 distance (m)', ax=ax)\n",
        "ax.set(xlabel=\"time (XX)\", ylabel=\"distance (XX)\", title=\"Speed Comparison\");"
      ],
      "execution_count": 0,
      "outputs": []
    },
    {
      "cell_type": "markdown",
      "metadata": {
        "id": "tMoYginpBSCs",
        "colab_type": "text"
      },
      "source": [
        "## Code Box 4"
      ]
    },
    {
      "cell_type": "code",
      "metadata": {
        "id": "LNTgi38XBSCs",
        "colab_type": "code",
        "colab": {}
      },
      "source": [
        "# this creates a data table called \"data2\"\n",
        "data2 = pd.DataFrame(columns=['time at 5 meters', 'time at 10 meters'], index=['car_A','car_B','car_C','car_D'])\n",
        "data2.loc['car_A'] = pd.Series({'time at 5 meters': 1, 'time at 10 meters': 2})\n",
        "data2.loc['car_B'] = pd.Series({'time at 5 meters': 3, 'time at 10 meters': 4})\n",
        "data2.loc['car_C'] = pd.Series({'time at 5 meters': 5, 'time at 10 meters': 6})\n",
        "data2.loc['car_D'] = pd.Series({'time at 5 meters': 7, 'time at 10 meters': 8})\n",
        "# this shows the data table\n",
        "data2"
      ],
      "execution_count": 0,
      "outputs": []
    },
    {
      "cell_type": "markdown",
      "metadata": {
        "id": "zU3lh9itBSCv",
        "colab_type": "text"
      },
      "source": [
        "## Code Box 5"
      ]
    },
    {
      "cell_type": "code",
      "metadata": {
        "id": "xtHcSMwwBSCv",
        "colab_type": "code",
        "colab": {}
      },
      "source": [
        "# selects the data to plot\n",
        "data2[\"average speed (m/s)\"] = ((data2[\"time at 5 meters\"]/5) + (data2[\"time at 10 meters\"]/10))/2\n",
        "datawewant = {'dist': [0, 10], \\\n",
        "        'car_A_time': [0, 10*data2.at[('car_A', 'average speed (m/s)')]], \\\n",
        "        'car_B_time': [0, 10*data2.at[('car_B', 'average speed (m/s)')]], \\\n",
        "        'car_C_time': [0, 10*data2.at[('car_C', 'average speed (m/s)')]], \\\n",
        "        'car_D_time': [0, 10*data2.at[('car_D', 'average speed (m/s)')]]}\n",
        "plotdata = pd.DataFrame.from_dict(datawewant)\n",
        "\n",
        "# plots the data\n",
        "ax = plotdata.plot(x='car_A_time',y='dist', label=\"car A\")\n",
        "plotdata.plot(x='car_B_time',y='dist', label=\"car B\", ax=ax)\n",
        "plotdata.plot(x='car_C_time',y='dist', label=\"car C\", ax=ax)\n",
        "plotdata.plot(x='car_D_time',y='dist', label=\"car D\", ax=ax)\n",
        "ax.set(xlabel=\"time (s)\", ylabel=\"distance (m)\", title=\"Speed Comparison\");"
      ],
      "execution_count": 0,
      "outputs": []
    }
  ]
}