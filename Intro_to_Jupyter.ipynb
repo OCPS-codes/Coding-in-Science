{
 "cells": [
  {
   "cell_type": "markdown",
   "metadata": {},
   "source": [
    "# Intro to coding with a Jupyter notebook\n",
    "![Welcome](https://github.com/garrettsutula/coding-in-comprehensive-science-1/raw/develop/Images/46025_b97dc288d71e7938c1ce8b7faacdc9ac.gif)\n",
    "This is a Jupyter notebook. It allows you to type text, format it with headings and links, insert images, and have separate cells for code. \n",
    "\n",
    "You can click the \"Run\" icon above (or shift+ENTER) to run a cell and go on to the next one. You can also edit the code and run it again to see how the output changes.\n",
    "\n",
    "Click on this cell, then press shift+ENTER or click the \"Run\" icon above.\n",
    "***"
   ]
  },
  {
   "cell_type": "markdown",
   "metadata": {},
   "source": [
    "   \n",
    "# Mistakes are OKAY!\n",
    "\n",
    "![Attention](https://github.com/garrettsutula/coding-in-comprehensive-science-1/raw/develop/Images/880v.gif)\n",
    "![Mistakes are OKAY](https://github.com/garrettsutula/coding-in-comprehensive-science-1/raw/develop/Images/Mistakes-Social-Guide.png)\n",
    "\n",
    "## At ANY point you make a mistake or something isn't turning out it's okay you have a reset button! \n",
    "\n",
    "### Restarting your Kernel will allow you to start over again with fresh code if you make any mistakes it's OKAY!\n",
    "\n",
    "- Before you restart your Kernel you should double check your code for small mistakes like spelling or capititalization as a misplaced letter or symbol can lead to broken code.\n",
    "\n",
    "![title](https://github.com/garrettsutula/coding-in-comprehensive-science-1/raw/develop/Images/restart.png)\n",
    "***"
   ]
  },
  {
   "cell_type": "markdown",
   "metadata": {},
   "source": [
    "# Now let's try running the code in the following cells. \n",
    "Remember you press shift+ENTER or click the \"Run\" icon above to run the code within an Input Cell. \n",
    "![Arrow](https://github.com/garrettsutula/coding-in-comprehensive-science-1/raw/develop/Images/animated-down-arrow.gif)\n",
    "***"
   ]
  },
  {
   "cell_type": "code",
   "execution_count": 21,
   "metadata": {},
   "outputs": [
    {
     "data": {
      "text/plain": [
       "4"
      ]
     },
     "execution_count": 21,
     "metadata": {},
     "output_type": "execute_result"
    }
   ],
   "source": [
    "# This is a \"comment\" \n",
    "# All comments star with the # symbol.\n",
    "# Starting with # tells the program not to read this line\n",
    "# You will see a box Labled \"Out\" after this box that is the Output box.\n",
    "# The Output box shows you the result of what code is placed inside of the \"In\" or Input box.\n",
    "# Below the code is being asked to add two numbers together. \n",
    "# Press shift+ENTER or click the \"Run\" icon above \n",
    "2+2"
   ]
  },
  {
   "cell_type": "code",
   "execution_count": 18,
   "metadata": {},
   "outputs": [
    {
     "data": {
      "text/plain": [
       "7"
      ]
     },
     "execution_count": 18,
     "metadata": {},
     "output_type": "execute_result"
    }
   ],
   "source": [
    "# The following lines \"define variables\"\n",
    "# By defining variables we are able to write more complex interactions. \n",
    "a = 4\n",
    "b = 3\n",
    "\n",
    "a+b"
   ]
  },
  {
   "cell_type": "code",
   "execution_count": 20,
   "metadata": {},
   "outputs": [
    {
     "data": {
      "text/plain": [
       "16"
      ]
     },
     "execution_count": 20,
     "metadata": {},
     "output_type": "execute_result"
    }
   ],
   "source": [
    "a*a"
   ]
  },
  {
   "cell_type": "markdown",
   "metadata": {
    "collapsed": true
   },
   "source": [
    "You can re-execute a cell by pressing shift+ENTER. Try editing some of the code above.\n",
    "- Edit some code to do a different calculation\n",
    "- Add a comment in a code cell to explain what the code does\n",
    "\n",
    "You can **save** by clicking on the disk icon in the top toolbar.  \n",
    "To **download a static pdf** version (for printing or to show someone without Jupyter installed), go to File > Download as > PDF via LaTex.  \n",
    "To **start over** from scratch: on the toolbar above click Kernel > Restart and Clear Output."
   ]
  },
  {
   "cell_type": "markdown",
   "metadata": {},
   "source": [
    "# Markdown\n",
    "This is a *markdown cell* which contains markdown text. That's text that isn't read as Python code. Instead, you can format markdown text to look nice. It's pretty simple. \n",
    "- here's a bullet point\n",
    "- and another list item in *italics* and **bold**.\n",
    "- this one has a hyperlink to this [treasure of the internet](https://www.youtube.com/watch?v=dQw4w9WgXcQ)\n",
    "- You can even embed images  \n",
    "![title](https://github.com/garrettsutula/coding-in-comprehensive-science-1/raw/develop/Images/SBcode.jpg)\n",
    "\n",
    "\n",
    "\n",
    "### TRY HERE\n",
    "Double-click on this cell to see the code that formats this text. Make the edits below and press shift+ENTER to see the changes.\n",
    " \n",
    "In this area complete the following (1) Add a bullet point (2) embed an image \n"
   ]
  },
  {
   "cell_type": "markdown",
   "metadata": {},
   "source": [
    "---\n",
    "## Saving Your Work\n",
    "To save for later use or analysis you have a few options:\n",
    "- File > Download as > ipynb (to continue your analysis later)\n",
    "- File > Download as > pdf (static copy including code and graphs)\n",
    "- Right-click on a graph and select Save Image As ... (to share a pic)"
   ]
  },
  {
   "cell_type": "code",
   "execution_count": null,
   "metadata": {},
   "outputs": [],
   "source": []
  }
 ],
 "metadata": {
  "kernelspec": {
   "display_name": "Python 3",
   "language": "python",
   "name": "python3"
  },
  "language_info": {
   "codemirror_mode": {
    "name": "ipython",
    "version": 3
   },
   "file_extension": ".py",
   "mimetype": "text/x-python",
   "name": "python",
   "nbconvert_exporter": "python",
   "pygments_lexer": "ipython3",
   "version": "3.6.4"
  }
 },
 "nbformat": 4,
 "nbformat_minor": 1
}
