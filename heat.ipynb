{
  "nbformat": 4,
  "nbformat_minor": 0,
  "metadata": {
    "colab": {
      "name": "heat.ipynb",
      "version": "0.3.2",
      "provenance": [],
      "include_colab_link": true
    },
    "language_info": {
      "codemirror_mode": {
        "name": "ipython",
        "version": 3
      },
      "file_extension": ".py",
      "mimetype": "text/x-python",
      "name": "python",
      "nbconvert_exporter": "python",
      "pygments_lexer": "ipython3",
      "version": "3.7.1"
    },
    "kernelspec": {
      "display_name": "Python 3",
      "language": "python",
      "name": "python3"
    }
  },
  "cells": [
    {
      "cell_type": "markdown",
      "metadata": {
        "id": "view-in-github",
        "colab_type": "text"
      },
      "source": [
        "<a href=\"https://colab.research.google.com/github/OCPS-codes/Coding-in-Science/blob/master/heat.ipynb\" target=\"_parent\"><img src=\"https://colab.research.google.com/assets/colab-badge.svg\" alt=\"Open In Colab\"/></a>"
      ]
    },
    {
      "cell_type": "markdown",
      "metadata": {
        "id": "mZvquIoZDTID",
        "colab_type": "text"
      },
      "source": [
        "##  In Case of Emergency - If you break the code and want a fresh start...\n",
        "### 1.   Click on File\n",
        "###  2.   Click o n Open Notebook\n",
        "### 3.   Click on GitHub \n",
        "### 4. Search ocps-codes within the GitHub tab\n",
        "### 5.   Open the appropriate Coding Notebook\n",
        "\n",
        "\n",
        "\n",
        "---\n",
        "# Heat and Temperature\n",
        "\n",
        "This activity investigates data from two experiments trying to melt chocolate with different heat sources.\n",
        "\n",
        "To get started,\n",
        "- You won't hurt anything by experimenting. If you break it, close the tab and open the activity again to start over.\n",
        "- Is this your first time? Need a refresher? Try the 5-minute [Intro to Jupyter activity](./Intro_to_Jupyter.ipynb) and come back here. \n",
        "\n",
        "When you're ready, run each code box until you get down to **Questions**.\n",
        "\n",
        "## Code Box 1"
      ]
    },
    {
      "cell_type": "code",
      "metadata": {
        "id": "ONb2Yn-QDTIK",
        "colab_type": "code",
        "colab": {
          "base_uri": "https://localhost:8080/",
          "height": 119
        },
        "outputId": "3e748977-010d-4279-8ce1-f74126d3d4cd"
      },
      "source": [
        "# We first have to import the software we'll need, called 'modules'\n",
        "import numpy as np\n",
        "import pandas as pd\n",
        "%matplotlib inline\n",
        "import matplotlib as mpl\n",
        "import matplotlib.pyplot as plt\n",
        "inline_rc = dict(mpl.rcParams)\n",
        "from types import ModuleType\n",
        "print('pandas loaded: {}'.format(isinstance(pd, ModuleType)))\n",
        "print('numpy loaded: {}'.format(isinstance(np, ModuleType)))\n",
        "print('matplotlib.pyplot loaded: {}'.format(isinstance(plt, ModuleType)))"
      ],
      "execution_count": 3,
      "outputs": [
        {
          "output_type": "stream",
          "text": [
            "pandas loaded: True\n",
            "numpy loaded: True\n",
            "matplotlib.pyplot loaded: True\n"
          ],
          "name": "stdout"
        },
        {
          "output_type": "stream",
          "text": [
            "/usr/local/lib/python3.6/dist-packages/matplotlib/__init__.py:886: MatplotlibDeprecationWarning: \n",
            "examples.directory is deprecated; in the future, examples will be found relative to the 'datapath' directory.\n",
            "  \"found relative to the 'datapath' directory.\".format(key))\n"
          ],
          "name": "stderr"
        }
      ]
    },
    {
      "cell_type": "markdown",
      "metadata": {
        "id": "gbRbnN97DTIR",
        "colab_type": "text"
      },
      "source": [
        "## Code Box 2"
      ]
    },
    {
      "cell_type": "code",
      "metadata": {
        "id": "2zxJ06xiDTIT",
        "colab_type": "code",
        "colab": {
          "base_uri": "https://localhost:8080/",
          "height": 266
        },
        "outputId": "556f61e9-c4f3-4f73-e0e0-821f1c7f6b51"
      },
      "source": [
        "# We use the method \".read_csv\" located in the \"pd\" module to get the data.\n",
        "heat = pd.read_csv(\"https://github.com/adamlamee/CODINGinK12/raw/master/data/heat.csv\")\n",
        "\n",
        "# This diplays the data (time in minutes, temperature in degrees C)\n",
        "heat"
      ],
      "execution_count": 4,
      "outputs": [
        {
          "output_type": "execute_result",
          "data": {
            "text/html": [
              "<div>\n",
              "<style scoped>\n",
              "    .dataframe tbody tr th:only-of-type {\n",
              "        vertical-align: middle;\n",
              "    }\n",
              "\n",
              "    .dataframe tbody tr th {\n",
              "        vertical-align: top;\n",
              "    }\n",
              "\n",
              "    .dataframe thead th {\n",
              "        text-align: right;\n",
              "    }\n",
              "</style>\n",
              "<table border=\"1\" class=\"dataframe\">\n",
              "  <thead>\n",
              "    <tr style=\"text-align: right;\">\n",
              "      <th></th>\n",
              "      <th>time</th>\n",
              "      <th>hair dryer temp</th>\n",
              "      <th>heat lamp temp</th>\n",
              "    </tr>\n",
              "  </thead>\n",
              "  <tbody>\n",
              "    <tr>\n",
              "      <th>0</th>\n",
              "      <td>0.0</td>\n",
              "      <td>20</td>\n",
              "      <td>20</td>\n",
              "    </tr>\n",
              "    <tr>\n",
              "      <th>1</th>\n",
              "      <td>0.5</td>\n",
              "      <td>21</td>\n",
              "      <td>23</td>\n",
              "    </tr>\n",
              "    <tr>\n",
              "      <th>2</th>\n",
              "      <td>1.0</td>\n",
              "      <td>22</td>\n",
              "      <td>25</td>\n",
              "    </tr>\n",
              "    <tr>\n",
              "      <th>3</th>\n",
              "      <td>1.5</td>\n",
              "      <td>25</td>\n",
              "      <td>30</td>\n",
              "    </tr>\n",
              "    <tr>\n",
              "      <th>4</th>\n",
              "      <td>2.0</td>\n",
              "      <td>26</td>\n",
              "      <td>30</td>\n",
              "    </tr>\n",
              "    <tr>\n",
              "      <th>5</th>\n",
              "      <td>2.5</td>\n",
              "      <td>27</td>\n",
              "      <td>30</td>\n",
              "    </tr>\n",
              "    <tr>\n",
              "      <th>6</th>\n",
              "      <td>3.0</td>\n",
              "      <td>29</td>\n",
              "      <td>33</td>\n",
              "    </tr>\n",
              "  </tbody>\n",
              "</table>\n",
              "</div>"
            ],
            "text/plain": [
              "   time  hair dryer temp  heat lamp temp\n",
              "0   0.0               20              20\n",
              "1   0.5               21              23\n",
              "2   1.0               22              25\n",
              "3   1.5               25              30\n",
              "4   2.0               26              30\n",
              "5   2.5               27              30\n",
              "6   3.0               29              33"
            ]
          },
          "metadata": {
            "tags": []
          },
          "execution_count": 4
        }
      ]
    },
    {
      "cell_type": "markdown",
      "metadata": {
        "id": "1MtCGtBnDTIc",
        "colab_type": "text"
      },
      "source": [
        "## Code Box 3"
      ]
    },
    {
      "cell_type": "code",
      "metadata": {
        "id": "klqp11uGDTIg",
        "colab_type": "code",
        "colab": {
          "base_uri": "https://localhost:8080/",
          "height": 295
        },
        "outputId": "450ab4de-995b-48b8-aae9-1ce89355a282"
      },
      "source": [
        "plt.plot('time', 'heat lamp temp', data=heat, color='red', marker='o')\n",
        "plt.plot('time', 'hair dryer temp', data=heat, color='blue', marker='o')\n",
        "plt.title('Type title here')\n",
        "plt.xlabel('Type x-axis label here')\n",
        "plt.ylabel('Type y-axis label here')\n",
        "plt.legend()\n",
        "plt.show()"
      ],
      "execution_count": 5,
      "outputs": [
        {
          "output_type": "display_data",
          "data": {
            "image/png": "[encoded data removed]",
            "text/plain": [
              "<Figure size 432x288 with 1 Axes>"
            ]
          },
          "metadata": {
            "tags": []
          }
        }
      ]
    },
    {
      "cell_type": "markdown",
      "metadata": {
        "id": "OxruHdbZdGn1",
        "colab_type": "text"
      },
      "source": [
        "##Code Box 4"
      ]
    },
    {
      "cell_type": "code",
      "metadata": {
        "id": "2Xc1sgT8dPqq",
        "colab_type": "code",
        "colab": {
          "base_uri": "https://localhost:8080/",
          "height": 266
        },
        "outputId": "adade87f-c6c0-4003-b1fe-0847fff7855a"
      },
      "source": [
        "# this creates a data table called \"data2\"\n",
        "data2 = pd.DataFrame(columns=['time', 'heat lamp temp', 'heat dryer temp'], index=['1','2','3','4','5','6','7'])\n",
        "data2.loc['1'] = pd.Series({'time': 0.0, 'heat lamp temp': 1, 'heat dryer temp': 2})\n",
        "data2.loc['2'] = pd.Series({'time': 0.5, 'heat lamp temp': 3, 'heat dryer temp': 4})\n",
        "data2.loc['3'] = pd.Series({'time': 1.0, 'heat lamp temp': 5, 'heat dryer temp': 6})\n",
        "data2.loc['4'] = pd.Series({'time': 1.5, 'heat lamp temp': 7, 'heat dryer temp': 8})\n",
        "data2.loc['5'] = pd.Series({'time': 2.0, 'heat lamp temp': 7, 'heat dryer temp': 10})\n",
        "data2.loc['6'] = pd.Series({'time': 2.5, 'heat lamp temp': 7, 'heat dryer temp': 8})\n",
        "data2.loc['7'] = pd.Series({'time': 3.0, 'heat lamp temp': 7, 'heat dryer temp': 8})\n",
        "# this shows the data table\n",
        "data2"
      ],
      "execution_count": 7,
      "outputs": [
        {
          "output_type": "execute_result",
          "data": {
            "text/html": [
              "<div>\n",
              "<style scoped>\n",
              "    .dataframe tbody tr th:only-of-type {\n",
              "        vertical-align: middle;\n",
              "    }\n",
              "\n",
              "    .dataframe tbody tr th {\n",
              "        vertical-align: top;\n",
              "    }\n",
              "\n",
              "    .dataframe thead th {\n",
              "        text-align: right;\n",
              "    }\n",
              "</style>\n",
              "<table border=\"1\" class=\"dataframe\">\n",
              "  <thead>\n",
              "    <tr style=\"text-align: right;\">\n",
              "      <th></th>\n",
              "      <th>time</th>\n",
              "      <th>heat lamp temp</th>\n",
              "      <th>heat dryer temp</th>\n",
              "    </tr>\n",
              "  </thead>\n",
              "  <tbody>\n",
              "    <tr>\n",
              "      <th>1</th>\n",
              "      <td>0</td>\n",
              "      <td>1</td>\n",
              "      <td>2</td>\n",
              "    </tr>\n",
              "    <tr>\n",
              "      <th>2</th>\n",
              "      <td>0.5</td>\n",
              "      <td>3</td>\n",
              "      <td>4</td>\n",
              "    </tr>\n",
              "    <tr>\n",
              "      <th>3</th>\n",
              "      <td>1</td>\n",
              "      <td>5</td>\n",
              "      <td>6</td>\n",
              "    </tr>\n",
              "    <tr>\n",
              "      <th>4</th>\n",
              "      <td>1.5</td>\n",
              "      <td>7</td>\n",
              "      <td>8</td>\n",
              "    </tr>\n",
              "    <tr>\n",
              "      <th>5</th>\n",
              "      <td>2</td>\n",
              "      <td>7</td>\n",
              "      <td>10</td>\n",
              "    </tr>\n",
              "    <tr>\n",
              "      <th>6</th>\n",
              "      <td>2.5</td>\n",
              "      <td>7</td>\n",
              "      <td>8</td>\n",
              "    </tr>\n",
              "    <tr>\n",
              "      <th>7</th>\n",
              "      <td>3</td>\n",
              "      <td>7</td>\n",
              "      <td>8</td>\n",
              "    </tr>\n",
              "  </tbody>\n",
              "</table>\n",
              "</div>"
            ],
            "text/plain": [
              "  time heat lamp temp heat dryer temp\n",
              "1    0              1               2\n",
              "2  0.5              3               4\n",
              "3    1              5               6\n",
              "4  1.5              7               8\n",
              "5    2              7              10\n",
              "6  2.5              7               8\n",
              "7    3              7               8"
            ]
          },
          "metadata": {
            "tags": []
          },
          "execution_count": 7
        }
      ]
    },
    {
      "cell_type": "markdown",
      "metadata": {
        "id": "Otjv9nO0e4lC",
        "colab_type": "text"
      },
      "source": [
        "##Code Box 5"
      ]
    },
    {
      "cell_type": "code",
      "metadata": {
        "id": "XGyJH1SSfAjL",
        "colab_type": "code",
        "colab": {
          "base_uri": "https://localhost:8080/",
          "height": 312
        },
        "outputId": "fd92c6bb-ca37-47a4-e1ab-196d6b2ef26a"
      },
      "source": [
        "#add your data to plot the graph\n",
        "time = [0, 1, 2, 3]\n",
        "heat_lamp_temperature = [0, 10, 20, 30]\n",
        "heat_dryer_temperature = [0, 5, 10, 20]\n",
        "\n",
        "plt.plot(time, heat_lamp_temperature, heat_dryer_temperature, marker='o')\n",
        "plt.title('Type title here')\n",
        "plt.xlabel('needs a title')\n",
        "plt.ylabel('needs a title')\n",
        "\n",
        "plt.plot(heat_lamp_temperature, label='Needs a title')\n",
        "plt.plot(heat_dryer_temperature, label='Needs a title')\n",
        "plt.legend()"
      ],
      "execution_count": 8,
      "outputs": [
        {
          "output_type": "execute_result",
          "data": {
            "text/plain": [
              "<matplotlib.legend.Legend at 0x7f10d752f4a8>"
            ]
          },
          "metadata": {
            "tags": []
          },
          "execution_count": 8
        },
        {
          "output_type": "display_data",
          "data": {
            "image/png": "[encoded data removed]",
            "text/plain": [
              "<Figure size 432x288 with 1 Axes>"
            ]
          },
          "metadata": {
            "tags": []
          }
        }
      ]
    },
    {
      "cell_type": "markdown",
      "metadata": {
        "id": "uNjB4sI5DTIn",
        "colab_type": "text"
      },
      "source": [
        "---\n",
        "\n",
        "## Saving Your Beautiful Graph\n",
        "\n",
        "Screenshot your graph and insert it into your assignment.\n",
        " \n",
        "...\n",
        "\n",
        "## Credits\n",
        "UCF undergraduate Michael Antia, who started the development of this notebook, was funded by Orange County Schools to make scientific computing a standard part of every middle school science class. This notebook was designed by [Adam LaMee](https://adamlamee.github.io/), who coordinated its development as the [PhysTEC](https://www.phystec.org/) Teacher-in-residence in the [University of Central Florida's Physics department](https://sciences.ucf.edu/physics/). Finally, thanks to the great folks at [Binder](https://mybinder.org/) and [Google Colaboratory](https://www.google.com/url?sa=t&rct=j&q=&esrc=s&source=web&cd=1&cad=rja&uact=8&ved=0ahUKEwjF96bdrO_bAhXD0FMKHUhAA-kQFggpMAA&url=https%3A%2F%2Fcolab.research.google.com%2F&usg=AOvVaw3A5aPK2kLFzKOzb6sOckVw) for making this notebook interactive without you needing to download it or install Jupyter on your own device. Find more activities and license info at [CODINGinK12.org](http://www.codingink12.org)."
      ]
    }
  ]
}