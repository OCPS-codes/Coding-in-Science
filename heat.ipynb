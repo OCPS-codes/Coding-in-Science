{
  "nbformat": 4,
  "nbformat_minor": 0,
  "metadata": {
    "colab": {
      "name": "heat.ipynb",
      "version": "0.3.2",
      "provenance": [],
      "include_colab_link": true
    },
    "language_info": {
      "codemirror_mode": {
        "name": "ipython",
        "version": 3
      },
      "file_extension": ".py",
      "mimetype": "text/x-python",
      "name": "python",
      "nbconvert_exporter": "python",
      "pygments_lexer": "ipython3",
      "version": "3.7.1"
    },
    "kernelspec": {
      "display_name": "Python 3",
      "language": "python",
      "name": "python3"
    }
  },
  "cells": [
    {
      "cell_type": "markdown",
      "metadata": {
        "id": "view-in-github",
        "colab_type": "text"
      },
      "source": [
        "<a href=\"https://colab.research.google.com/github/OCPS-codes/Coding-in-Science/blob/master/heat.ipynb\" target=\"_parent\"><img src=\"https://colab.research.google.com/assets/colab-badge.svg\" alt=\"Open In Colab\"/></a>"
      ]
    },
    {
      "cell_type": "markdown",
      "metadata": {
        "id": "mZvquIoZDTID",
        "colab_type": "text"
      },
      "source": [
        "##  In Case of Emergency - If you break the code and want a fresh start...\n",
        "### 1.   Click on File\n",
        "###  2.   Click o n Open Notebook\n",
        "### 3.   Click on GitHub \n",
        "### 4. Search ocps-codes within the GitHub tab\n",
        "### 5.   Open the appropriate Coding Notebook\n",
        "\n",
        "\n",
        "\n",
        "---\n",
        "# Heat and Temperature\n",
        "\n",
        "This activity investigates data from two experiments trying to melt chocolate with different heat sources.\n",
        "\n",
        "To get started,\n",
        "- You won't hurt anything by experimenting. If you break it, close the tab and open the activity again to start over.\n",
        "- Is this your first time? Need a refresher? Try the 5-minute [Intro to Jupyter activity](./Intro_to_Jupyter.ipynb) and come back here. \n",
        "\n",
        "When you're ready, run each code box until you get down to **Questions**.\n",
        "\n",
        "## Code Box 1"
      ]
    },
    {
      "cell_type": "code",
      "metadata": {
        "id": "ONb2Yn-QDTIK",
        "colab_type": "code",
        "colab": {}
      },
      "source": [
        "# We first have to import the software we'll need, called 'modules'\n",
        "import numpy as np\n",
        "import pandas as pd\n",
        "%matplotlib inline\n",
        "import matplotlib as mpl\n",
        "import matplotlib.pyplot as plt\n",
        "inline_rc = dict(mpl.rcParams)\n",
        "from types import ModuleType\n",
        "print('pandas loaded: {}'.format(isinstance(pd, ModuleType)))\n",
        "print('numpy loaded: {}'.format(isinstance(np, ModuleType)))\n",
        "print('matplotlib.pyplot loaded: {}'.format(isinstance(plt, ModuleType)))"
      ],
      "execution_count": 0,
      "outputs": []
    },
    {
      "cell_type": "markdown",
      "metadata": {
        "id": "gbRbnN97DTIR",
        "colab_type": "text"
      },
      "source": [
        "## Code Box 2"
      ]
    },
    {
      "cell_type": "code",
      "metadata": {
        "id": "2zxJ06xiDTIT",
        "colab_type": "code",
        "colab": {}
      },
      "source": [
        "# We use the method \".read_csv\" located in the \"pd\" module to get the data.\n",
        "heat = pd.read_csv(\"https://github.com/adamlamee/CODINGinK12/raw/master/data/heat.csv\")\n",
        "\n",
        "# This diplays the data (time in minutes, temperature in degrees C)\n",
        "heat"
      ],
      "execution_count": 0,
      "outputs": []
    },
    {
      "cell_type": "markdown",
      "metadata": {
        "id": "1MtCGtBnDTIc",
        "colab_type": "text"
      },
      "source": [
        "## Code Box 3"
      ]
    },
    {
      "cell_type": "code",
      "metadata": {
        "id": "klqp11uGDTIg",
        "colab_type": "code",
        "colab": {}
      },
      "source": [
        "plt.plot('heat lamp temp', 'time', data=heat, color='red', marker='o')\n",
        "plt.plot('hair dryer temp', 'time', data=heat, color='blue', marker='o')\n",
        "plt.grid(True)\n",
        "plt.title('Type title here')\n",
        "plt.xlabel('Type x-axis label here')\n",
        "plt.ylabel('Type y-axis label here')\n",
        "plt.show()"
      ],
      "execution_count": 0,
      "outputs": []
    },
    {
      "cell_type": "markdown",
      "metadata": {
        "id": "OxruHdbZdGn1",
        "colab_type": "text"
      },
      "source": [
        "##Code Box 4"
      ]
    },
    {
      "cell_type": "code",
      "metadata": {
        "id": "2Xc1sgT8dPqq",
        "colab_type": "code",
        "colab": {}
      },
      "source": [
        "# this creates a data table called \"data2\"\n",
        "data2 = pd.DataFrame(columns=['time', 'heat lamp temp', 'heat dryer temp'], index=['1','2','3','4','5','6','7'])\n",
        "data2.loc['1'] = pd.Series({'time': 0.0, 'heat lamp temp': 1, 'heat dryer temp': 2})\n",
        "data2.loc['2'] = pd.Series({'time': 0.5, 'heat lamp temp': 3, 'heat dryer temp': 4})\n",
        "data2.loc['3'] = pd.Series({'time': 1.0, 'heat lamp temp': 5, 'heat dryer temp': 6})\n",
        "data2.loc['4'] = pd.Series({'time': 1.5, 'heat lamp temp': 7, 'heat dryer temp': 8})\n",
        "data2.loc['5'] = pd.Series({'time': 2.0, 'heat lamp temp': 7, 'heat dryer temp': 10})\n",
        "data2.loc['6'] = pd.Series({'time': 2.5, 'heat lamp temp': 7, 'heat dryer temp': 8})\n",
        "data2.loc['7'] = pd.Series({'time': 3.0, 'heat lamp temp': 7, 'heat dryer temp': 8})\n",
        "# this shows the data table\n",
        "data2"
      ],
      "execution_count": 0,
      "outputs": []
    },
    {
      "cell_type": "markdown",
      "metadata": {
        "id": "Otjv9nO0e4lC",
        "colab_type": "text"
      },
      "source": [
        "##Code Box 5"
      ]
    },
    {
      "cell_type": "code",
      "metadata": {
        "id": "XGyJH1SSfAjL",
        "colab_type": "code",
        "colab": {}
      },
      "source": [
        "#add your data to plot the graph\n",
        "f, ax = plt.subplots()\n",
        "#the organge line should reflect the heat lamp \n",
        "#the blue line should reflect the heat dryer\n",
        "#change the code in the line below to reflect the temperatures from your lab you will change the numbers inside the 1st and 3rd []'s\n",
        "ax.plot([26,27,38,39,41,42], [0,1.0,1.5,2.0,2.5,3.0], [27,29,32,39,40,41], [0,1.0,1.5,2.0,2.5,3.0])\n",
        "ax.set_xlim([25, 45])\n",
        "ax.set_ylim([0, 3.5])\n",
        "plt.title('Type title here')\n",
        "plt.xlabel('needs a title')\n",
        "plt.ylabel('needs a title')\n",
        "plt.grid(True)"
      ],
      "execution_count": 0,
      "outputs": []
    },
    {
      "cell_type": "markdown",
      "metadata": {
        "id": "uNjB4sI5DTIn",
        "colab_type": "text"
      },
      "source": [
        "---\n",
        "\n",
        "## Saving Your Beautiful Graph\n",
        "\n",
        "Screenshot your graph and insert it into your assignment.\n",
        " \n",
        "...\n",
        "\n",
        "## Credits\n",
        "UCF undergraduate Michael Antia, who started the development of this notebook, was funded by Orange County Schools to make scientific computing a standard part of every middle school science class. This notebook was designed by [Adam LaMee](https://adamlamee.github.io/), who coordinated its development as the [PhysTEC](https://www.phystec.org/) Teacher-in-residence in the [University of Central Florida's Physics department](https://sciences.ucf.edu/physics/). Finally, thanks to the great folks at [Binder](https://mybinder.org/) and [Google Colaboratory](https://www.google.com/url?sa=t&rct=j&q=&esrc=s&source=web&cd=1&cad=rja&uact=8&ved=0ahUKEwjF96bdrO_bAhXD0FMKHUhAA-kQFggpMAA&url=https%3A%2F%2Fcolab.research.google.com%2F&usg=AOvVaw3A5aPK2kLFzKOzb6sOckVw) for making this notebook interactive without you needing to download it or install Jupyter on your own device. Find more activities and license info at [CODINGinK12.org](http://www.codingink12.org)."
      ]
    }
  ]
}