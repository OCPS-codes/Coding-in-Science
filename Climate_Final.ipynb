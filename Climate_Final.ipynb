{
  "nbformat": 4,
  "nbformat_minor": 0,
  "metadata": {
    "colab": {
      "name": "Climate%20Final.ipynb",
      "version": "0.3.2",
      "provenance": []
    },
    "kernelspec": {
      "display_name": "Python 3",
      "language": "python",
      "name": "python3"
    }
  },
  "cells": [
    {
      "metadata": {
        "id": "8RzEGj7h4vfh",
        "colab_type": "text"
      },
      "cell_type": "markdown",
      "source": [
        "##  In Case of Emergency - If you break the code and want a fresh start...\n",
        "### 1.   Click on File\n",
        "###  2.   Click o n Open Notebook\n",
        "### 3.   Click on GitHub \n",
        "### 4. Search ocps-codes wthin the GitHub tab\n",
        "### 5.   Open the appropriate Coding Notebook\n",
        "\n",
        "\n",
        "\n",
        "---\n",
        "\n",
        "\n",
        "# Weather and Climate\n",
        "This activity uses weather data averaged over 20-30 years from [NASA Education](https://pmm.nasa.gov/education/) and [U.S.ClimateData.com](https://www.usclimatedata.com/climate/orlando/florida/united-states/usfl1021/2017/1).\n",
        "\n",
        "\n"
      ]
    },
    {
      "metadata": {
        "id": "9BISAF9_6mA6",
        "colab_type": "text"
      },
      "cell_type": "markdown",
      "source": [
        "## Code Box 1"
      ]
    },
    {
      "metadata": {
        "id": "T3uXpxpt4vfj",
        "colab_type": "code",
        "colab": {}
      },
      "cell_type": "code",
      "source": [
        "# import the software packages needed\n",
        "import pandas as pd\n",
        "import numpy as np\n",
        "%matplotlib inline\n",
        "import matplotlib as mpl\n",
        "import matplotlib.pyplot as plt\n",
        "inline_rc = dict(mpl.rcParams)\n",
        "from types import ModuleType\n",
        "print('pandas loaded: {}'.format(isinstance(pd, ModuleType)))\n",
        "print('numpy loaded: {}'.format(isinstance(np, ModuleType)))\n",
        "print('matplotlib loaded: {}'.format(isinstance(mpl, ModuleType)))\n",
        "print('matplotlib.pyplot loaded: {}'.format(isinstance(plt, ModuleType)))"
      ],
      "execution_count": 0,
      "outputs": []
    },
    {
      "metadata": {
        "id": "k6Nz1-_K4vfl",
        "colab_type": "text"
      },
      "cell_type": "markdown",
      "source": [
        "# Orlando average precipitation and temperature, 1981-2010"
      ]
    },
    {
      "metadata": {
        "id": "xBidGYrH6pEE",
        "colab_type": "text"
      },
      "cell_type": "markdown",
      "source": [
        "## Code Box 2"
      ]
    },
    {
      "metadata": {
        "id": "9PFs6fMQ4vfm",
        "colab_type": "code",
        "colab": {}
      },
      "cell_type": "code",
      "source": [
        "# importing the data\n",
        "orlando = pd.read_csv('https://raw.githubusercontent.com/OCPS-codes/coding-in-comprehensive-science-1/master/Data/orlando_data.csv', header=1)\n",
        "orlando"
      ],
      "execution_count": 0,
      "outputs": []
    },
    {
      "metadata": {
        "id": "XJkBAmtf6sec",
        "colab_type": "text"
      },
      "cell_type": "markdown",
      "source": [
        "## Code Box 3"
      ]
    },
    {
      "metadata": {
        "id": "lwwecbBZ4vfr",
        "colab_type": "code",
        "colab": {}
      },
      "cell_type": "code",
      "source": [
        "ax = orlando.plot.bar(x='Month', y='Avg Precipitation', color='b')\n",
        "orlando.plot.line(x='Month', y='Avg Temperature', color='k', \\\n",
        "                  linestyle='-', marker='o', ax=ax, secondary_y=True);\n",
        "ax.set_title(\"Orlando\")\n",
        "ax.set_ylabel('Precipication (mm)')\n",
        "ax.set_ylim(0,400)\n",
        "ax.right_ax.set_ylabel('Temperature (deg C)')\n",
        "ax.right_ax.set_ylim(0,40)\n",
        "ax.legend(loc='upper left')\n",
        "ax.right_ax.legend(loc='upper right')\n",
        "ax.grid(axis='y')"
      ],
      "execution_count": 0,
      "outputs": []
    },
    {
      "metadata": {
        "id": "dkPGcl3D4vft",
        "colab_type": "text"
      },
      "cell_type": "markdown",
      "source": [
        "# New Orleans average precipitation and temperature, 1981-2010"
      ]
    },
    {
      "metadata": {
        "id": "OyHH3xaH6uZF",
        "colab_type": "text"
      },
      "cell_type": "markdown",
      "source": [
        "## Code Box 4"
      ]
    },
    {
      "metadata": {
        "id": "-i-xIAk74vfu",
        "colab_type": "code",
        "colab": {}
      },
      "cell_type": "code",
      "source": [
        "# importing the data\n",
        "nola = pd.read_csv('https://raw.githubusercontent.com/OCPS-codes/coding-in-comprehensive-science-1/master/Data/NOLA_data.csv', header=1)\n",
        "nola"
      ],
      "execution_count": 0,
      "outputs": []
    },
    {
      "metadata": {
        "id": "flech96z6wP2",
        "colab_type": "text"
      },
      "cell_type": "markdown",
      "source": [
        "## Code Box 5"
      ]
    },
    {
      "metadata": {
        "id": "hKGMM3TS4vfv",
        "colab_type": "code",
        "colab": {}
      },
      "cell_type": "code",
      "source": [
        "ax = nola.plot.bar(x='XXXX', y='XXXX', color='b')\n",
        "nola.plot.line(x='XXXX', y='XXXX', color='k', \\\n",
        "                  linestyle='-', marker='o', ax=ax, secondary_y=True);\n",
        "ax.set_title(\"New Orleans\")\n",
        "ax.set_ylabel('XXXX')\n",
        "ax.set_ylim(0,400)\n",
        "ax.right_ax.set_ylabel('XXXX')\n",
        "ax.right_ax.set_ylim(0,40)\n",
        "ax.legend(loc='upper left')\n",
        "ax.right_ax.legend(loc='upper right')\n",
        "ax.grid(axis='y')"
      ],
      "execution_count": 0,
      "outputs": []
    },
    {
      "metadata": {
        "id": "0ekffJUK4vf1",
        "colab_type": "text"
      },
      "cell_type": "markdown",
      "source": [
        "# Orlando daily weather, December 2015"
      ]
    },
    {
      "metadata": {
        "id": "mr54noii6x58",
        "colab_type": "text"
      },
      "cell_type": "markdown",
      "source": [
        "## Code Box 6"
      ]
    },
    {
      "metadata": {
        "id": "1FRbRErA4vf1",
        "colab_type": "code",
        "colab": {}
      },
      "cell_type": "code",
      "source": [
        "# importing the data\n",
        "daily = pd.read_csv('https://raw.githubusercontent.com/OCPS-codes/coding-in-comprehensive-science-1/master/Data/orlando_data2.csv', header=1)\n",
        "daily"
      ],
      "execution_count": 0,
      "outputs": []
    },
    {
      "metadata": {
        "id": "_QPh0bOM7s2Y",
        "colab_type": "text"
      },
      "cell_type": "markdown",
      "source": [
        "## Code Box 7"
      ]
    },
    {
      "metadata": {
        "id": "fHvvBrVQ4vf5",
        "colab_type": "code",
        "colab": {}
      },
      "cell_type": "code",
      "source": [
        "ax = daily.plot.line(x='Date', y='High', linestyle='-', marker='o', color='r')\n",
        "daily.plot.line(x='Date', y='Low', color='b', linestyle='-', marker='o', ax=ax);\n",
        "\n",
        "ax.set_title(\"Orlando temperature, December 2015\")\n",
        "ax.set_ylabel('Temperature (deg C)')\n",
        "ax.grid(axis='y')"
      ],
      "execution_count": 0,
      "outputs": []
    }
  ]
}