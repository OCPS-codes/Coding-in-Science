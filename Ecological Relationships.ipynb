{
  "nbformat": 4,
  "nbformat_minor": 0,
  "metadata": {
    "colab": {
      "name": "Populations.ipynb",
      "version": "0.3.2",
      "provenance": []
    },
    "language_info": {
      "codemirror_mode": {
        "name": "ipython",
        "version": 3
      },
      "file_extension": ".py",
      "mimetype": "text/x-python",
      "name": "python",
      "nbconvert_exporter": "python",
      "pygments_lexer": "ipython3",
      "version": "3.7.1"
    },
    "kernelspec": {
      "display_name": "Python 3",
      "language": "python",
      "name": "python3"
    }
  },
  "cells": [
    {
      "cell_type": "markdown",
      "metadata": {
        "id": "dfkonvoyVg-S",
        "colab_type": "text"
      },
      "source": [
        "##  In Case of Emergency - If you break the code and want a fresh start...\n",
        "### 1.   Click on File\n",
        "###  2.   Click o n Open Notebook\n",
        "### 3.   Click on GitHub \n",
        "### 4. Search ocps-codes within the GitHub tab\n",
        "### 5.   Open the appropriate Coding Notebook\n",
        "\n",
        "\n",
        "\n",
        "---\n",
        "# Ecological Relationships\n",
        "## Everglades Burmese Python and White-tailed Deer\n",
        "\n",
        "This activity will guide you in creating a double line graph using data below for Everglades Burmese Python and White-tailed Deer Populations.\n",
        "\n",
        "To get started,\n",
        "- You won't hurt anything by experimenting. If you break it, close the tab and open the activity again to start over.\n",
        "- Is this your first time? Need a refresher? Try the 5-minute [Intro to Jupyter activity](./Intro_to_Jupyter.ipynb) and come back here. \n",
        "\n",
        "When you're ready, run each code box until you get down to **Questions**.\n",
        "\n",
        "## Code Box 1"
      ]
    },
    {
      "cell_type": "code",
      "metadata": {
        "id": "2d5e_HQTVg-e",
        "colab_type": "code",
        "colab": {}
      },
      "source": [
        "# We first have to import the software we'll need, called 'modules'\n",
        "import numpy as np\n",
        "import pandas as pd\n",
        "%matplotlib inline\n",
        "import matplotlib as mpl\n",
        "import matplotlib.pyplot as plt\n",
        "inline_rc = dict(mpl.rcParams)\n",
        "from types import ModuleType\n",
        "print('pandas loaded: {}'.format(isinstance(pd, ModuleType)))\n",
        "print('numpy loaded: {}'.format(isinstance(np, ModuleType)))\n",
        "print('matplotlib.pyplot loaded: {}'.format(isinstance(plt, ModuleType)))"
      ],
      "execution_count": 0,
      "outputs": []
    },
    {
      "cell_type": "markdown",
      "metadata": {
        "id": "9f4OjfwJVg-m",
        "colab_type": "text"
      },
      "source": [
        "## Code Box 2"
      ]
    },
    {
      "cell_type": "code",
      "metadata": {
        "id": "5TMHmxzQVg-o",
        "colab_type": "code",
        "colab": {}
      },
      "source": [
        "# We now need to read the data of Python and Deer populations over a number of years. \n",
        "# Let's use our method \".read_csv\" located in the \"pd\" module.\n",
        "\n",
        "data = pd.read_csv(\"https://github.com/adamlamee/CODINGinK12/raw/master/data/populations.csv\")\n",
        "\n",
        "# This diplays 'data'\n",
        "data "
      ],
      "execution_count": 0,
      "outputs": []
    },
    {
      "cell_type": "markdown",
      "metadata": {
        "id": "MWKCUxL2Vg-w",
        "colab_type": "text"
      },
      "source": [
        "## Code Box 3"
      ]
    },
    {
      "cell_type": "code",
      "metadata": {
        "id": "RowNrBxRVg_C",
        "colab_type": "code",
        "colab": {}
      },
      "source": [
        "# Insert a {title} for the Double Line Graph\n",
        "# Insert a {label} for the x-axis. \n",
        "# Insert a {label} for the y-axis. \n",
        "plt.plot('Year', 'Pythons', data=data, color='red', marker='o')\n",
        "plt.plot('Year', 'Deer', data=data, color='blue', marker='+')\n",
        "plt.title('Type title here')\n",
        "plt.xlabel('Type x-axis label here')\n",
        "plt.ylabel('Type y-axis label here')\n",
        "plt.xlim(2000,2015)\n",
        "plt.ylim(200,1000)\n",
        "plt.legend()\n",
        "plt.show()"
      ],
      "execution_count": 0,
      "outputs": []
    },
    {
      "cell_type": "markdown",
      "metadata": {
        "id": "ao09gw0bVg_B",
        "colab_type": "text"
      },
      "source": [
        "## Code Box 4"
      ]
    },
    {
      "cell_type": "code",
      "metadata": {
        "id": "U3SEkIgVVg-x",
        "colab_type": "code",
        "colab": {}
      },
      "source": [
        "# Python can do math, too (the programming language, not the snake)\n",
        "a = 10-7\n",
        "print(\"This number equals\", a)"
      ],
      "execution_count": 0,
      "outputs": []
    },
    {
      "cell_type": "code",
      "metadata": {
        "id": "WhFMRf4WVg-3",
        "colab_type": "code",
        "colab": {}
      },
      "source": [
        "b = 5*4\n",
        "print(\"I calculated\", b)"
      ],
      "execution_count": 0,
      "outputs": []
    },
    {
      "cell_type": "markdown",
      "metadata": {
        "id": "OMeSjuG2Vg_H",
        "colab_type": "text"
      },
      "source": [
        "---\n",
        "\n",
        "## Saving Your Beautiful Graph\n",
        "\n",
        "Screenshot your graph and insert it into your assignment.\n",
        "\n",
        "\n",
        "## Credits\n",
        "UCF undergraduate Hunter T., who started the development of this notebook, was funded by Orange County Schools to make scientific computing a standard part of every middle school science class. This notebook was designed by [Adam LaMee](https://adamlamee.github.io/), who coordinated its development as the [PhysTEC](https://www.phystec.org/) Teacher-in-residence in the [University of Central Florida's Physics department](https://sciences.ucf.edu/physics/). Finally, thanks to the great folks at [Binder](https://mybinder.org/) and [Google Colaboratory](https://www.google.com/url?sa=t&rct=j&q=&esrc=s&source=web&cd=1&cad=rja&uact=8&ved=0ahUKEwjF96bdrO_bAhXD0FMKHUhAA-kQFggpMAA&url=https%3A%2F%2Fcolab.research.google.com%2F&usg=AOvVaw3A5aPK2kLFzKOzb6sOckVw) for making this notebook interactive without you needing to download it or install Jupyter on your own device. Find more activities and license info at [CODINGinK12.org](http://www.codingink12.org)."
      ]
    }
  ]
}