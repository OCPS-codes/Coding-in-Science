{
  "nbformat": 4,
  "nbformat_minor": 0,
  "metadata": {
    "colab": {
      "name": "Punnett Square",
      "version": "0.3.2",
      "provenance": [],
      "collapsed_sections": []
    },
    "language_info": {
      "codemirror_mode": {
        "name": "ipython",
        "version": 3
      },
      "file_extension": ".py",
      "mimetype": "text/x-python",
      "name": "python",
      "nbconvert_exporter": "python",
      "pygments_lexer": "ipython3",
      "version": "3.7.1"
    },
    "kernelspec": {
      "display_name": "Python 3",
      "language": "python",
      "name": "python3"
    }
  },
  "cells": [
    {
      "cell_type": "markdown",
      "metadata": {
        "colab_type": "text",
        "id": "7DIwQmBcebog"
      },
      "source": [
        "##  In Case of Emergency - If you break the code and want a fresh start...\n",
        "### 1.   Click on File\n",
        "###  2.   Click o n Open Notebook\n",
        "### 3.   Click on GitHub \n",
        "### 4. Search ocps-codes within the GitHub tab\n",
        "### 5.   Open the appropriate Coding Notebook\n",
        "\n",
        "\n",
        "\n",
        "---\n",
        "# Punnett Squares\n",
        "In this activity, you'll use a punnett square to discover the likelihood of children inheriting certain genotypes based on the genotypes of their parents.\n",
        "\n",
        "To get started,\n",
        "- You won't hurt anything by experimenting. If you break it, close the tab and open the activity again to start over.\n",
        "- Is this your first time? Need a refresher? Try the 5-minute [Intro to Jupyter activity](./Intro_to_Jupyter.ipynb) and come back here. \n",
        "\n",
        "When you're ready, run each **code box** until you get down to **Questions**.\n",
        "\n",
        "## Code Box 1"
      ]
    },
    {
      "cell_type": "code",
      "metadata": {
        "colab_type": "code",
        "id": "4KZ3j-aKQZeq",
        "colab": {
          "base_uri": "https://localhost:8080/",
          "height": 68
        },
        "outputId": "7b0cb022-55c5-4ec4-f5f0-9e5bc6c321fa"
      },
      "source": [
        "# We first have to import all the software packages that we'll need.\n",
        "import pandas as pd\n",
        "import numpy as np\n",
        "%matplotlib inline\n",
        "import matplotlib as mpl\n",
        "import matplotlib.pyplot as plt\n",
        "import matplotlib.pyplot as plt\n",
        "from types import ModuleType\n",
        "print('pandas loaded: {}'.format(isinstance(pd, ModuleType)))\n",
        "print('numpy loaded: {}'.format(isinstance(np, ModuleType)))\n",
        "print('matplotlib.pyplot loaded: {}'.format(isinstance(plt, ModuleType)))"
      ],
      "execution_count": 2,
      "outputs": [
        {
          "output_type": "stream",
          "text": [
            "pandas loaded: True\n",
            "numpy loaded: True\n",
            "matplotlib.pyplot loaded: True\n"
          ],
          "name": "stdout"
        }
      ]
    },
    {
      "cell_type": "markdown",
      "metadata": {
        "id": "YYYqgqtWK6W4",
        "colab_type": "text"
      },
      "source": [
        "## Code Box 2"
      ]
    },
    {
      "cell_type": "code",
      "metadata": {
        "id": "SnJIvctdK6W6",
        "colab_type": "code",
        "colab": {}
      },
      "source": [
        "# Information for each parent\n",
        "parent_one = \"Aa\"\n",
        "parent_two = \"aa\"\n",
        "\n",
        "color_1 = 'brown'\n",
        "color_2 = 'blue'\n",
        "\n",
        "# This will allow us to check if the genotype is reccesive or dominant\n",
        "def checker(gene):\n",
        "  checker = False\n",
        "  if len(gene) == 2:\n",
        "    if gene[0].isupper() or gene[1].isupper():\n",
        "      color = color_1\n",
        "      return 'color: %s' % color\n",
        "    else:\n",
        "      color = color_2\n",
        "      return 'color: %s' % color\n",
        "  else:\n",
        "    return gene\n",
        "\n",
        "def fix(gene):\n",
        "  if gene[1].isupper() and gene[0].islower():\n",
        "    gene = gene.lower().capitalize()\n",
        "    return gene\n",
        "  else:\n",
        "    return gene\n",
        "\n",
        "# This will pair the genes together into their possible combinations\n",
        "combo_one = fix(parent_one[0]+parent_two[0])\n",
        "combo_two = fix(parent_one[1] + parent_two[0])\n",
        "combo_three = fix(parent_one[0]+parent_two[1])\n",
        "combo_four = fix(parent_one[1]+parent_two[1]) "
      ],
      "execution_count": 0,
      "outputs": []
    },
    {
      "cell_type": "markdown",
      "metadata": {
        "colab_type": "text",
        "id": "ZT2ll0mgFVsT"
      },
      "source": [
        "## Code Box 3"
      ]
    },
    {
      "cell_type": "code",
      "metadata": {
        "colab_type": "code",
        "id": "ben8GE8Ud2vl",
        "outputId": "d8ebcf84-2c13-4d88-dd24-2e82c9602639",
        "colab": {
          "base_uri": "https://localhost:8080/",
          "height": 151
        }
      },
      "source": [
        "# Now we'll assemble a Punnett square with these values.\n",
        "data =  {1 : [\" \", parent_one[0], parent_one[1]],\n",
        "         2 : [parent_two[0],combo_one,combo_two],\n",
        "         3 : [parent_two[1], combo_three,combo_four]}\n",
        "index = [1,2,3]\n",
        "columns = [1,2,3]\n",
        "frame = pd.DataFrame(data,index=index, columns=columns)\n",
        "\n",
        "# Now let's format the Punnett square a little more to make it so \n",
        "# the color of our genotypes reveal something about the genotypes.\n",
        "styles = [dict(selector=\"th\", props=[(\"color\", \"white\"), (\"font-size\", \"0%\")])]\n",
        "frame.style\\\n",
        "      .applymap(checker, subset=[2, 3])\\\n",
        "      .set_properties(**{'font-size': '20pt', 'text-align': 'center'})\\\n",
        "      .set_table_styles(styles)\\\n",
        "      .set_caption(\"I'm a title\")"
      ],
      "execution_count": 5,
      "outputs": [
        {
          "output_type": "execute_result",
          "data": {
            "text/html": [
              "<style  type=\"text/css\" >\n",
              "    #T_d8d6a0c2_83ab_11e9_8464_0242ac1c0002 th {\n",
              "          color: white;\n",
              "          font-size: 0%;\n",
              "    }    #T_d8d6a0c2_83ab_11e9_8464_0242ac1c0002row0_col0 {\n",
              "            font-size:  20pt;\n",
              "            text-align:  center;\n",
              "        }    #T_d8d6a0c2_83ab_11e9_8464_0242ac1c0002row0_col1 {\n",
              "            : ;\n",
              "            font-size:  20pt;\n",
              "            text-align:  center;\n",
              "        }    #T_d8d6a0c2_83ab_11e9_8464_0242ac1c0002row0_col2 {\n",
              "            : ;\n",
              "            font-size:  20pt;\n",
              "            text-align:  center;\n",
              "        }    #T_d8d6a0c2_83ab_11e9_8464_0242ac1c0002row1_col0 {\n",
              "            font-size:  20pt;\n",
              "            text-align:  center;\n",
              "        }    #T_d8d6a0c2_83ab_11e9_8464_0242ac1c0002row1_col1 {\n",
              "            color:  brown;\n",
              "            font-size:  20pt;\n",
              "            text-align:  center;\n",
              "        }    #T_d8d6a0c2_83ab_11e9_8464_0242ac1c0002row1_col2 {\n",
              "            color:  brown;\n",
              "            font-size:  20pt;\n",
              "            text-align:  center;\n",
              "        }    #T_d8d6a0c2_83ab_11e9_8464_0242ac1c0002row2_col0 {\n",
              "            font-size:  20pt;\n",
              "            text-align:  center;\n",
              "        }    #T_d8d6a0c2_83ab_11e9_8464_0242ac1c0002row2_col1 {\n",
              "            color:  blue;\n",
              "            font-size:  20pt;\n",
              "            text-align:  center;\n",
              "        }    #T_d8d6a0c2_83ab_11e9_8464_0242ac1c0002row2_col2 {\n",
              "            color:  blue;\n",
              "            font-size:  20pt;\n",
              "            text-align:  center;\n",
              "        }</style><table id=\"T_d8d6a0c2_83ab_11e9_8464_0242ac1c0002\" ><caption>I'm a title</caption><thead>    <tr>        <th class=\"blank level0\" ></th>        <th class=\"col_heading level0 col0\" >1</th>        <th class=\"col_heading level0 col1\" >2</th>        <th class=\"col_heading level0 col2\" >3</th>    </tr></thead><tbody>\n",
              "                <tr>\n",
              "                        <th id=\"T_d8d6a0c2_83ab_11e9_8464_0242ac1c0002level0_row0\" class=\"row_heading level0 row0\" >1</th>\n",
              "                        <td id=\"T_d8d6a0c2_83ab_11e9_8464_0242ac1c0002row0_col0\" class=\"data row0 col0\" > </td>\n",
              "                        <td id=\"T_d8d6a0c2_83ab_11e9_8464_0242ac1c0002row0_col1\" class=\"data row0 col1\" >a</td>\n",
              "                        <td id=\"T_d8d6a0c2_83ab_11e9_8464_0242ac1c0002row0_col2\" class=\"data row0 col2\" >a</td>\n",
              "            </tr>\n",
              "            <tr>\n",
              "                        <th id=\"T_d8d6a0c2_83ab_11e9_8464_0242ac1c0002level0_row1\" class=\"row_heading level0 row1\" >2</th>\n",
              "                        <td id=\"T_d8d6a0c2_83ab_11e9_8464_0242ac1c0002row1_col0\" class=\"data row1 col0\" >A</td>\n",
              "                        <td id=\"T_d8d6a0c2_83ab_11e9_8464_0242ac1c0002row1_col1\" class=\"data row1 col1\" >Aa</td>\n",
              "                        <td id=\"T_d8d6a0c2_83ab_11e9_8464_0242ac1c0002row1_col2\" class=\"data row1 col2\" >Aa</td>\n",
              "            </tr>\n",
              "            <tr>\n",
              "                        <th id=\"T_d8d6a0c2_83ab_11e9_8464_0242ac1c0002level0_row2\" class=\"row_heading level0 row2\" >3</th>\n",
              "                        <td id=\"T_d8d6a0c2_83ab_11e9_8464_0242ac1c0002row2_col0\" class=\"data row2 col0\" >a</td>\n",
              "                        <td id=\"T_d8d6a0c2_83ab_11e9_8464_0242ac1c0002row2_col1\" class=\"data row2 col1\" >aa</td>\n",
              "                        <td id=\"T_d8d6a0c2_83ab_11e9_8464_0242ac1c0002row2_col2\" class=\"data row2 col2\" >aa</td>\n",
              "            </tr>\n",
              "    </tbody></table>"
            ],
            "text/plain": [
              "<pandas.io.formats.style.Styler at 0x7fd7642583c8>"
            ]
          },
          "metadata": {
            "tags": []
          },
          "execution_count": 5
        }
      ]
    },
    {
      "cell_type": "markdown",
      "metadata": {
        "id": "47kRUoSJK6XL",
        "colab_type": "text"
      },
      "source": [
        "# Questions\n",
        "Take a look at the parents' information in **code box 2** above.\n",
        "\n",
        "*   What do the combination of numbers after the words parent_one and parent_two represent? What do the individual letters represent?\n",
        "*   Everything with 0 in the brackets is the first letter of that parent and the ones with 1 mean the second letter of that parent. Knowing this, what is happening on the lines that say combo?"
      ]
    },
    {
      "cell_type": "markdown",
      "metadata": {
        "colab_type": "text",
        "id": "p-8PbR7vjRQZ"
      },
      "source": [
        "---\n",
        "## Credits\n",
        "UCF undergraduate Dylan Skelly, who started the development of this notebook, was funded by Orange County Public Schools to make scientific computing a standard part of every middle school science class. This notebook was designed by Adam LaMee, who coordinated its development as the PhysTEC Teacher-in-residence in the University of Central Florida's Physics department.Thanks to the great folks at [Binder](https://mybinder.org/) and [Google Colaboratory](https://www.google.com/url?sa=t&rct=j&q=&esrc=s&source=web&cd=1&cad=rja&uact=8&ved=0ahUKEwjF96bdrO_bAhXD0FMKHUhAA-kQFggpMAA&url=https%3A%2F%2Fcolab.research.google.com%2F&usg=AOvVaw3A5aPK2kLFzKOzb6sOckVw) for making this notebook interactive without you needing to download it or install Jupyter on your own device. Find more activities and license info at [CODINGinK12.org](http://www.codingink12.org)."
      ]
    }
  ]
}