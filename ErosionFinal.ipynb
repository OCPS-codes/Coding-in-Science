{
  "nbformat": 4,
  "nbformat_minor": 0,
  "metadata": {
    "colab": {
      "name": "ErosionFinal.ipynb",
      "version": "0.3.2",
      "provenance": []
    },
    "kernelspec": {
      "display_name": "Python 3",
      "language": "python",
      "name": "python3"
    }
  },
  "cells": [
    {
      "metadata": {
        "id": "lJPbO6QNG_pJ",
        "colab_type": "text"
      },
      "cell_type": "markdown",
      "source": [
        "\n",
        "\n",
        "#  In Case of Emergency - If you break the code and want a fresh start...\n",
        "### 1.   Click on File\n",
        "###  2.   Click on Open Notebook\n",
        "### 3.   Click on GitHub \n",
        "### 4. Search ocps-codes within the GitHub tab\n",
        "### 5.   Open the appropriate Coding Notebook\n",
        "\n",
        "---\n",
        "\n",
        "\n",
        "#  Erosion\n",
        "\n",
        "After having completed the Erosion virtual lab we will now work to examine our data.\n",
        "\n",
        "![](http://interactivesites.weebly.com/uploads/9/5/0/5/9505777/discovery.jpg)"
      ]
    },
    {
      "metadata": {
        "id": "pa-AjWISG_pM",
        "colab_type": "text"
      },
      "cell_type": "markdown",
      "source": [
        "# Determining the Effect of Plants\n",
        "\n",
        "You will now make a bar graph that will display the results for soil erosion with no soil treatment and low incline, testing the effects of 'low', 'medium' and 'high' water. To run the block of code and all of the code blocks below, you will hit Shift + Enter."
      ]
    },
    {
      "metadata": {
        "id": "dlAgYfQjG_pM",
        "colab_type": "text"
      },
      "cell_type": "markdown",
      "source": [
        "## Code Box 1"
      ]
    },
    {
      "metadata": {
        "id": "3SzS7_LgG_pN",
        "colab_type": "code",
        "colab": {}
      },
      "cell_type": "code",
      "source": [
        "#importing what we'll need the results for soil erosion with no soil treatment and low incline, testing the effects of 'low', 'medium' and 'high' water. To run the block of code and all of the code blocks below, you will hit Shift + Enter to use our data.\n",
        "import numpy as np\n",
        "import pandas as pd\n",
        "%matplotlib inline\n",
        "import matplotlib.pyplot as plt; plt.rcdefaults()\n",
        "import matplotlib.pyplot as plt\n",
        "from types import ModuleType\n",
        "print('pandas loaded: {}'.format(isinstance(pd, ModuleType)))\n",
        "print('numpy loaded: {}'.format(isinstance(np, ModuleType)))\n",
        "print('matplotlib.pyplot loaded: {}'.format(isinstance(plt, ModuleType)))"
      ],
      "execution_count": 0,
      "outputs": []
    },
    {
      "metadata": {
        "id": "JpvxmoJrG_pQ",
        "colab_type": "text"
      },
      "cell_type": "markdown",
      "source": [
        "## Code Box 2"
      ]
    },
    {
      "metadata": {
        "id": "NwU2sEoUG_pQ",
        "colab_type": "code",
        "colab": {}
      },
      "cell_type": "code",
      "source": [
        "water_level = ('Low Water', 'Medium Water', 'High Water')\n",
        "y_pos = np.arange(len(water_level))\n",
        "soil_erosion2 = [X,X,X]\n",
        " \n",
        "plt.bar(y_pos, soil_erosion2, align='center', alpha=0.5, color =\"b\")\n",
        "plt.xticks(y_pos, water_level)\n",
        "plt.ylim(0,15)\n",
        "plt.ylabel('Soil Erosion in Liters')\n",
        "plt.title('Soil Erosion with No Soil Treatment and Low Incline')\n",
        "plt.show()"
      ],
      "execution_count": 0,
      "outputs": []
    },
    {
      "metadata": {
        "id": "mAGUJdr1G_pU",
        "colab_type": "text"
      },
      "cell_type": "markdown",
      "source": [
        "## Code Box 3"
      ]
    },
    {
      "metadata": {
        "id": "l8_0zbuYG_pV",
        "colab_type": "code",
        "colab": {}
      },
      "cell_type": "code",
      "source": [
        "water_level = ('Low Water', 'Medium Water', 'High Water')\n",
        "y_pos = np.arange(len(water_level))\n",
        "\n",
        "#Insert your data below.  Make sure that the data is entered in the correct order. \n",
        "# Order:\n",
        "# Low Water\n",
        "# Medium Water\n",
        "# High Water \n",
        "\n",
        "soil_erosion3 = [X,X,X]\n",
        " \n",
        "plt.bar(y_pos, soil_erosion3, align='center', alpha=0.5, color =\"g\")\n",
        "plt.xticks(y_pos, water_level)\n",
        "plt.ylim(0,15)\n",
        "plt.ylabel('Soil Erosion in Liters')\n",
        "plt.title('Soil Erosion with Plants and Low Incline')\n",
        "plt.show()"
      ],
      "execution_count": 0,
      "outputs": []
    },
    {
      "metadata": {
        "id": "k4H1cPm0G_pX",
        "colab_type": "text"
      },
      "cell_type": "markdown",
      "source": [
        "## Code Box 4"
      ]
    },
    {
      "metadata": {
        "id": "zD6oGl-LG_pZ",
        "colab_type": "code",
        "colab": {}
      },
      "cell_type": "code",
      "source": [
        "objects3 = ('Low Water - Low Incline', 'Low Water - Medium Incline', 'Low Water - Steep Incline', 'Medium Water - Low Incline', 'Medium Water - Medium Incline','Medium Water - Steep Incline','High Water - Low Incline', 'High Water - Medium Incline','High Water - Steep Incline')\n",
        "y_pos = np.arange(len(objects3))\n",
        "soil_erosion4 = [X,X,X,X,X,X,X,X,X]\n",
        "\n",
        "plt.bar(y_pos, soil_erosion4, align='center', alpha=0.5, color =\"cry\")\n",
        "\n",
        "plt.xticks(y_pos, objects3, rotation=90)\n",
        "plt.title('Soil Erosion with No Soil Treatment')\n",
        "plt.ylim(0,15)\n",
        "plt.ylabel('Soil Erosion in Litres')\n",
        "plt.show()"
      ],
      "execution_count": 0,
      "outputs": []
    },
    {
      "metadata": {
        "id": "Nh7-lOl5G_pb",
        "colab_type": "text"
      },
      "cell_type": "markdown",
      "source": [
        "## Code Box 5"
      ]
    },
    {
      "metadata": {
        "id": "OGWbUNNoG_pd",
        "colab_type": "code",
        "colab": {}
      },
      "cell_type": "code",
      "source": [
        "objects4 = ('Low Water - Low Incline', 'Low Water - Medium Incline', 'Low Water - Steep Incline', 'Medium Water - Low Incline', 'Medium Water - Medium Incline','Medium Water - Steep Incline','High Water - Low Incline', 'High Water - Medium Incline','High Water - Steep Incline')\n",
        "y_pos = np.arange(len(objects4))\n",
        "\n",
        "#Insert your data below in the [ ].  Make sure that the data is entered in the correct order. \n",
        "#All the data is preset to 1 Litre. Order:\n",
        "# Low Water - Low Incline\n",
        "# Low Water - Medium Incline\n",
        "# Low Water - Steep Incline\n",
        "# Medium Water - Low Incline\n",
        "# Medium Water - Medium Incline\n",
        "# Medium Water - Steep Incline \n",
        "# High Water - Low Incline\n",
        "# High Water - Medium Incline\n",
        "# High Water - Steep Incline\n",
        "\n",
        "soil_erosion5 = [X,X,X,X,X,X,X,X,X]\n",
        "\n",
        "\n",
        "plt.bar(y_pos, soil_erosion5, align='center', alpha=0.5, color =\"gmk\")\n",
        "plt.xticks(y_pos, objects4, rotation=90)\n",
        "plt.ylim(0,15)\n",
        "plt.ylabel('Soil Runoff in Litres')\n",
        "plt.title('Soil Erosion with Plants')\n",
        "plt.show()"
      ],
      "execution_count": 0,
      "outputs": []
    },
    {
      "metadata": {
        "id": "z7HI9TmLG_pf",
        "colab_type": "text"
      },
      "cell_type": "markdown",
      "source": [
        "# Unstructured Coding - Changing the Type of Soil\n",
        "\n",
        "Open up [Erosion: Here Today, Gone Tomorrow](http://gtm-media.discoveryeducation.com/videos/DSC/externalApplications/accessible/virtual_labs-es/Erosion/index.html) again in a new tab. This time click on <b>Level 2</b>, which now allows you to also adjust the type of soil. Run run tests for soil erosion for the <u>PLANTS</u> soil treatment with <u>medium incline</u> for 'low', 'medium' and 'high' water and 'sand', 'silt', and 'Sand/Soil Mixture' Soil Types.  Write down your results in a data table, then enter them in the code below where it says soil_erosion6 = []."
      ]
    },
    {
      "metadata": {
        "id": "ywH-JH5xG_pg",
        "colab_type": "text"
      },
      "cell_type": "markdown",
      "source": [
        "## Code Box 6"
      ]
    },
    {
      "metadata": {
        "id": "uD2zzvoWG_pg",
        "colab_type": "code",
        "colab": {}
      },
      "cell_type": "code",
      "source": [
        "objectsb = ('Medium Water - Low Incline - Sand', 'Medium Water - Low Incline - Silt', 'Medium Water - Low Incline - Sand/Silt Mix','Medium Water - Medium Incline - Sand', 'Medium Water - Medium Incline - Silt', 'Medium Water - Medium Incline - Sand/Silt Mix', 'Medium Water - Steep Incline - Sand', 'Medium Water - Steep Incline - Silt', 'Medium Water - Steep Incline - Sand/Silt Mix')\n",
        "y_pos = np.arange(len(objectsb))\n",
        "\n",
        "#Insert your data below in the [ ].  Make sure that the data is entered in the correct order. \n",
        "#All the data is preset to 1 Litre. Order:\n",
        "# Medium Water - Low Incline - Sand\n",
        "# Medium Water - Low Incline - Silt\n",
        "# Medium Water - Low Incline - Sand/Silt Mix\n",
        "# Medium Water - Medium Incline - Sand\n",
        "# Medium Water - Medium Incline - Silt\n",
        "# Medium Water - Medium Incline - Sand/Silt Mix\n",
        "# Medium Water - Steep Incline - Sand\n",
        "# Medium Water - Steep Incline - Silt\n",
        "# Medium Water - Steep Incline - Sand/Silt Mix\n",
        "\n",
        "soil_erosion6 = []\n",
        "\n",
        "\n",
        "plt.bar(y_pos, soil_erosion6, align='center', alpha=0.5, color =[\"#C5B358\", \"#782F40\", \"k\"])\n",
        "plt.xticks(y_pos, objectsb, rotation=90)\n",
        "plt.ylim(0,11)\n",
        "plt.ylabel('Soil Erosion in Liters')\n",
        "plt.title('Soil Erosion with Plants & Medium Water (Level 2)')\n",
        "plt.show()"
      ],
      "execution_count": 0,
      "outputs": []
    }
  ]
}