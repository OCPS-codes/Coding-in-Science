{
 "cells": [
  {
   "cell_type": "markdown",
   "metadata": {},
   "source": [
    "# Classification of Organisms\n",
    "\n",
    "![DNA Tree](https://github.com/garrettsutula/coding-in-comprehensive-science-1/raw/develop/Images/5ff06fff9e30a3f7410b3da79dd4b399.jpg)\n",
    "\n",
    "## <span style=\"color:red\">Step 1: Click on the \"Save Icon\". If you have a problem and need to completely restart, then click \"File\" and \"Revert to Checkpoint\" to reset.</span> \n",
    "\n",
    "### Importing the Data\n",
    "\n",
    ">The next 2 blocks of code imports the data that we will need to examine the characteristics  of many different organisms. You can begin to execute the cells using <b> Shift + Enter </b> to import the data set and continue."
   ]
  },
  {
   "cell_type": "markdown",
   "metadata": {},
   "source": [
    "# Sorting Organism by One Characteristic"
   ]
  },
  {
   "cell_type": "markdown",
   "metadata": {},
   "source": [
    "## Code Box 1"
   ]
  },
  {
   "cell_type": "code",
   "execution_count": 2,
   "metadata": {},
   "outputs": [],
   "source": [
    "# Run this box and the one below to import the data sheet. \n",
    "# Import modules that contain functions we need\n",
    "import pandas as pd\n",
    "import numpy as np\n",
    "%matplotlib inline\n",
    "import matplotlib.pyplot as plt"
   ]
  },
  {
   "cell_type": "markdown",
   "metadata": {},
   "source": [
    "## Code Box 2"
   ]
  },
  {
   "cell_type": "code",
   "execution_count": 5,
   "metadata": {},
   "outputs": [],
   "source": [
    "# Our data is the organisms table and is defined as the word 'key'.\n",
    "# key is set equal to the file that is read by pandas.\n",
    "# The file must be in the same directory as the program.\n",
    "\n",
    "#If the data is being pulled locally use the code that is commented out below\n",
    "#key = pd.read_csv(\"Classification of Organisms- Jupyter Data.csv\")\n",
    "\n",
    "key = pd.read_csv(\"https://github.com/garrettsutula/OCPS-grade-6/raw/develop/data/classification.csv\")\n",
    "\n",
    "# This sets Organism as the index instead of numbers\n",
    "#key = data.set_index(\"organism\")"
   ]
  },
  {
   "cell_type": "markdown",
   "metadata": {},
   "source": [
    "## Code Box 3"
   ]
  },
  {
   "cell_type": "code",
   "execution_count": 10,
   "metadata": {},
   "outputs": [
    {
     "data": {
      "text/plain": [
       "0                        worm\n",
       "1                         bee\n",
       "2                 black widow\n",
       "3                   butterfly\n",
       "4                   dragonfly\n",
       "5                        flea\n",
       "6                         fly\n",
       "7                    mosquito\n",
       "8                        moth\n",
       "9                    scorpion\n",
       "10                       wasp\n",
       "11                      yeast\n",
       "12                  death cap\n",
       "13             white mushroom\n",
       "14                       moss\n",
       "15                     badger\n",
       "16                        bat\n",
       "17                       bear\n",
       "18                     beaver\n",
       "19                     bobcat\n",
       "20                        cat\n",
       "21                    chicken\n",
       "22                 chimpanzee\n",
       "23                   chipmunk\n",
       "24                  clownfish\n",
       "25                        cow\n",
       "26                  crocodile\n",
       "27                       deer\n",
       "28                        dog\n",
       "29                    dolphin\n",
       "               ...           \n",
       "48                  porcupine\n",
       "49                     rabbit\n",
       "50                    raccoon\n",
       "51                rattlesnake\n",
       "52                  red panda\n",
       "53                 rhinoceros\n",
       "54                 salamander\n",
       "55                       seal\n",
       "56                      shark\n",
       "57                      skunk\n",
       "58                      sloth\n",
       "59                   squirrel\n",
       "60                  tree frog\n",
       "61                      tucan\n",
       "62                     turkey\n",
       "63                     turtle\n",
       "64                    vulture\n",
       "65                     weasel\n",
       "66                      whale\n",
       "67                       wolf\n",
       "68                 woodpecker\n",
       "69                  pine tree\n",
       "70                 poison ivy\n",
       "71      staphylococcus aureus\n",
       "72                      snail\n",
       "73                   oak tree\n",
       "74                  palm tree\n",
       "75                       mold\n",
       "76     streptococcus pyogenes\n",
       "77    halobacterium salinarum\n",
       "Name: organism, Length: 78, dtype: object"
      ]
     },
     "execution_count": 10,
     "metadata": {},
     "output_type": "execute_result"
    }
   ],
   "source": [
    "# Animal options in data set\n",
    "# Displays all row titles as an array\n",
    "key.organism"
   ]
  },
  {
   "cell_type": "markdown",
   "metadata": {},
   "source": [
    "## Code Box 4"
   ]
  },
  {
   "cell_type": "code",
   "execution_count": 7,
   "metadata": {},
   "outputs": [
    {
     "data": {
      "text/plain": [
       "Index(['organism', 'eukaryotic', 'prokaryotic', 'domain', 'kingdom', 'phylum',\n",
       "       'class', 'order', 'chloroplast', 'autotroph', 'multicellular',\n",
       "       'extreme'],\n",
       "      dtype='object')"
      ]
     },
     "execution_count": 7,
     "metadata": {},
     "output_type": "execute_result"
    }
   ],
   "source": [
    "# Conditions/Questions for finding the correct animal\n",
    "# Displays all column titles as an array\n",
    "key.columns"
   ]
  },
  {
   "cell_type": "markdown",
   "metadata": {},
   "source": [
    "## Code Box 5"
   ]
  },
  {
   "cell_type": "code",
   "execution_count": 18,
   "metadata": {},
   "outputs": [
    {
     "data": {
      "text/html": [
       "<div>\n",
       "<style scoped>\n",
       "    .dataframe tbody tr th:only-of-type {\n",
       "        vertical-align: middle;\n",
       "    }\n",
       "\n",
       "    .dataframe tbody tr th {\n",
       "        vertical-align: top;\n",
       "    }\n",
       "\n",
       "    .dataframe thead th {\n",
       "        text-align: right;\n",
       "    }\n",
       "</style>\n",
       "<table border=\"1\" class=\"dataframe\">\n",
       "  <thead>\n",
       "    <tr style=\"text-align: right;\">\n",
       "      <th></th>\n",
       "      <th>organism</th>\n",
       "      <th>eukaryotic</th>\n",
       "      <th>prokaryotic</th>\n",
       "      <th>domain</th>\n",
       "      <th>kingdom</th>\n",
       "      <th>phylum</th>\n",
       "      <th>class</th>\n",
       "      <th>order</th>\n",
       "      <th>chloroplast</th>\n",
       "      <th>autotroph</th>\n",
       "      <th>multicellular</th>\n",
       "      <th>extreme</th>\n",
       "    </tr>\n",
       "  </thead>\n",
       "  <tbody>\n",
       "    <tr>\n",
       "      <th>71</th>\n",
       "      <td>staphylococcus aureus</td>\n",
       "      <td>no</td>\n",
       "      <td>yes</td>\n",
       "      <td>bacteria</td>\n",
       "      <td>eubacteria</td>\n",
       "      <td>firmicutes</td>\n",
       "      <td>bacilli</td>\n",
       "      <td>bacillales</td>\n",
       "      <td>no</td>\n",
       "      <td>no</td>\n",
       "      <td>no</td>\n",
       "      <td>no</td>\n",
       "    </tr>\n",
       "    <tr>\n",
       "      <th>76</th>\n",
       "      <td>streptococcus pyogenes</td>\n",
       "      <td>no</td>\n",
       "      <td>yes</td>\n",
       "      <td>bacteria</td>\n",
       "      <td>eubacteria</td>\n",
       "      <td>firmicutes</td>\n",
       "      <td>bacilli</td>\n",
       "      <td>lactobacillales</td>\n",
       "      <td>no</td>\n",
       "      <td>no</td>\n",
       "      <td>no</td>\n",
       "      <td>no</td>\n",
       "    </tr>\n",
       "  </tbody>\n",
       "</table>\n",
       "</div>"
      ],
      "text/plain": [
       "                  organism eukaryotic prokaryotic    domain     kingdom  \\\n",
       "71   staphylococcus aureus         no         yes  bacteria  eubacteria   \n",
       "76  streptococcus pyogenes         no         yes  bacteria  eubacteria   \n",
       "\n",
       "        phylum    class            order chloroplast autotroph multicellular  \\\n",
       "71  firmicutes  bacilli       bacillales          no        no            no   \n",
       "76  firmicutes  bacilli  lactobacillales          no        no            no   \n",
       "\n",
       "   extreme  \n",
       "71      no  \n",
       "76      no  "
      ]
     },
     "execution_count": 18,
     "metadata": {},
     "output_type": "execute_result"
    }
   ],
   "source": [
    "key[(key['kingdom'] == 'eubacteria')]"
   ]
  },
  {
   "cell_type": "markdown",
   "metadata": {},
   "source": [
    "## Code Box 6"
   ]
  },
  {
   "cell_type": "code",
   "execution_count": 10,
   "metadata": {},
   "outputs": [
    {
     "data": {
      "text/html": [
       "<div>\n",
       "<style scoped>\n",
       "    .dataframe tbody tr th:only-of-type {\n",
       "        vertical-align: middle;\n",
       "    }\n",
       "\n",
       "    .dataframe tbody tr th {\n",
       "        vertical-align: top;\n",
       "    }\n",
       "\n",
       "    .dataframe thead th {\n",
       "        text-align: right;\n",
       "    }\n",
       "</style>\n",
       "<table border=\"1\" class=\"dataframe\">\n",
       "  <thead>\n",
       "    <tr style=\"text-align: right;\">\n",
       "      <th></th>\n",
       "      <th>organism</th>\n",
       "      <th>eukaryotic</th>\n",
       "      <th>prokaryotic</th>\n",
       "      <th>domain</th>\n",
       "      <th>kingdom</th>\n",
       "      <th>phylum</th>\n",
       "      <th>class</th>\n",
       "      <th>order</th>\n",
       "      <th>chloroplast</th>\n",
       "      <th>autotroph</th>\n",
       "      <th>multicellular</th>\n",
       "      <th>extreme</th>\n",
       "    </tr>\n",
       "  </thead>\n",
       "  <tbody>\n",
       "    <tr>\n",
       "      <th>14</th>\n",
       "      <td>moss</td>\n",
       "      <td>yes</td>\n",
       "      <td>no</td>\n",
       "      <td>eukarya</td>\n",
       "      <td>plantae</td>\n",
       "      <td>bryophyta</td>\n",
       "      <td>polytrichaceae</td>\n",
       "      <td>bromeliales</td>\n",
       "      <td>yes</td>\n",
       "      <td>yes</td>\n",
       "      <td>yes</td>\n",
       "      <td>no</td>\n",
       "    </tr>\n",
       "    <tr>\n",
       "      <th>69</th>\n",
       "      <td>pine tree</td>\n",
       "      <td>yes</td>\n",
       "      <td>no</td>\n",
       "      <td>eukarya</td>\n",
       "      <td>plantae</td>\n",
       "      <td>coniferaphya</td>\n",
       "      <td>pinopsida</td>\n",
       "      <td>pinales</td>\n",
       "      <td>yes</td>\n",
       "      <td>yes</td>\n",
       "      <td>yes</td>\n",
       "      <td>no</td>\n",
       "    </tr>\n",
       "    <tr>\n",
       "      <th>70</th>\n",
       "      <td>poison ivy</td>\n",
       "      <td>yes</td>\n",
       "      <td>no</td>\n",
       "      <td>eukarya</td>\n",
       "      <td>plantae</td>\n",
       "      <td>embryophyta</td>\n",
       "      <td>magnoliopsida�</td>\n",
       "      <td>sapindales</td>\n",
       "      <td>yes</td>\n",
       "      <td>yes</td>\n",
       "      <td>yes</td>\n",
       "      <td>no</td>\n",
       "    </tr>\n",
       "    <tr>\n",
       "      <th>73</th>\n",
       "      <td>oak tree</td>\n",
       "      <td>yes</td>\n",
       "      <td>no</td>\n",
       "      <td>eukarya</td>\n",
       "      <td>plantae</td>\n",
       "      <td>tracheophyta</td>\n",
       "      <td>magnoliopsida</td>\n",
       "      <td>fagales</td>\n",
       "      <td>yes</td>\n",
       "      <td>yes</td>\n",
       "      <td>yes</td>\n",
       "      <td>no</td>\n",
       "    </tr>\n",
       "    <tr>\n",
       "      <th>74</th>\n",
       "      <td>palm tree</td>\n",
       "      <td>yes</td>\n",
       "      <td>no</td>\n",
       "      <td>eukarya</td>\n",
       "      <td>plantae</td>\n",
       "      <td>tracheophyta</td>\n",
       "      <td>liliopsida</td>\n",
       "      <td>arecales</td>\n",
       "      <td>yes</td>\n",
       "      <td>yes</td>\n",
       "      <td>yes</td>\n",
       "      <td>no</td>\n",
       "    </tr>\n",
       "  </tbody>\n",
       "</table>\n",
       "</div>"
      ],
      "text/plain": [
       "      organism eukaryotic prokaryotic   domain  kingdom        phylum  \\\n",
       "14        moss        yes          no  eukarya  plantae     bryophyta   \n",
       "69   pine tree        yes          no  eukarya  plantae  coniferaphya   \n",
       "70  poison ivy        yes          no  eukarya  plantae   embryophyta   \n",
       "73    oak tree        yes          no  eukarya  plantae  tracheophyta   \n",
       "74   palm tree        yes          no  eukarya  plantae  tracheophyta   \n",
       "\n",
       "             class        order chloroplast autotroph multicellular extreme  \n",
       "14  polytrichaceae  bromeliales         yes       yes           yes      no  \n",
       "69       pinopsida      pinales         yes       yes           yes      no  \n",
       "70  magnoliopsida�   sapindales         yes       yes           yes      no  \n",
       "73   magnoliopsida      fagales         yes       yes           yes      no  \n",
       "74      liliopsida     arecales         yes       yes           yes      no  "
      ]
     },
     "execution_count": 10,
     "metadata": {},
     "output_type": "execute_result"
    }
   ],
   "source": [
    "\n",
    "key[\n",
    "#physical characteristics\n",
    "    (key['extreme'] == 'no') & \\\n",
    "        \n",
    "#feeding characteristics\n",
    "    \n",
    "    #chloroplasts are used in the process of making food using energy from sunlight\n",
    "    (key['chloroplast'] == 'yes') & \\\n",
    "    \n",
    "    #autotrophs are organisms that generate their own food inside themselves\n",
    "    (key['autotroph'] == 'yes') & \\\n",
    "    \n",
    "#levels of organization\n",
    "    (key['domain'] == 'eukarya') & \\\n",
    "    (key['kingdom'] == 'plantae') & \\\n",
    "   \n",
    "#cell type     \n",
    "    (key['multicellular'] == 'yes') & \\\n",
    "    (key['eukaryotic'] == 'yes') & \\\n",
    "    (key['prokaryotic'] == 'no')\n",
    "    ]"
   ]
  }
 ],
 "metadata": {
  "kernelspec": {
   "display_name": "Python 3",
   "language": "python",
   "name": "python3"
  },
  "language_info": {
   "codemirror_mode": {
    "name": "ipython",
    "version": 3
   },
   "file_extension": ".py",
   "mimetype": "text/x-python",
   "name": "python",
   "nbconvert_exporter": "python",
   "pygments_lexer": "ipython3",
   "version": "3.6.5"
  }
 },
 "nbformat": 4,
 "nbformat_minor": 2
}
