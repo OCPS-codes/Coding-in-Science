{
  "nbformat": 4,
  "nbformat_minor": 0,
  "metadata": {
    "colab": {
      "name": "Classification.ipynb",
      "version": "0.3.2",
      "provenance": [],
      "include_colab_link": true
    },
    "kernelspec": {
      "display_name": "Python 3",
      "language": "python",
      "name": "python3"
    }
  },
  "cells": [
    {
      "cell_type": "markdown",
      "metadata": {
        "id": "view-in-github",
        "colab_type": "text"
      },
      "source": [
        "<a href=\"https://colab.research.google.com/github/OCPS-codes/Coding-in-Science/blob/master/Classification.ipynb\" target=\"_parent\"><img src=\"https://colab.research.google.com/assets/colab-badge.svg\" alt=\"Open In Colab\"/></a>"
      ]
    },
    {
      "cell_type": "markdown",
      "metadata": {
        "id": "Oc2m3P8fFpD4",
        "colab_type": "text"
      },
      "source": [
        "##  In Case of Emergency - If you break the code and want a fresh start...\n",
        "### 1.   Click the *Refresh/Reload button* in your browser \n",
        "\n",
        "---\n",
        "\n",
        "\n",
        "# Classification of Organisms\n",
        "\n",
        "![DNA Tree](https://github.com/garrettsutula/coding-in-comprehensive-science-1/raw/develop/Images/5ff06fff9e30a3f7410b3da79dd4b399.jpg)\n",
        "\n",
        "## <span style=\"color:red\">Step 1: Click on the \"Save Icon\". If you have a problem and need to completely restart, then click \"File\" and \"Revert to Checkpoint\" to reset.</span> \n",
        "\n",
        "### Importing the Data\n",
        "\n",
        ">The next 2 blocks of code imports the data that we will need to examine the characteristics  of many different organisms. You can begin to execute the cells using <b> Shift + Enter </b> to import the data set and continue."
      ]
    },
    {
      "cell_type": "markdown",
      "metadata": {
        "id": "C9SEsamxFpD5",
        "colab_type": "text"
      },
      "source": [
        "# Sorting Organism by One Characteristic"
      ]
    },
    {
      "cell_type": "markdown",
      "metadata": {
        "id": "x3_V_6JwFpD7",
        "colab_type": "text"
      },
      "source": [
        "## Code Box 1"
      ]
    },
    {
      "cell_type": "code",
      "metadata": {
        "id": "gA2D_yRPFpD7",
        "colab_type": "code",
        "colab": {}
      },
      "source": [
        "# Run this box and the one below to import the data sheet. \n",
        "# Import modules that contain functions we need\n",
        "import pandas as pd\n",
        "import numpy as np\n",
        "%matplotlib inline\n",
        "import matplotlib.pyplot as plt\n",
        "from types import ModuleType\n",
        "print('pandas loaded: {}'.format(isinstance(pd, ModuleType)))\n",
        "print('numpy loaded: {}'.format(isinstance(np, ModuleType)))\n",
        "print('matplotlib.pyplot loaded: {}'.format(isinstance(plt, ModuleType)))"
      ],
      "execution_count": 0,
      "outputs": []
    },
    {
      "cell_type": "markdown",
      "metadata": {
        "id": "Q7ObDdj7FpD_",
        "colab_type": "text"
      },
      "source": [
        "## Code Box 2"
      ]
    },
    {
      "cell_type": "code",
      "metadata": {
        "id": "h4ke76Q_FpD_",
        "colab_type": "code",
        "colab": {}
      },
      "source": [
        "# Our data is the organisms table and is defined as the word 'key'.\n",
        "# key is set equal to the file that is read by pandas.\n",
        "# The file must be in the same directory as the program.\n",
        "\n",
        "#If the data is being pulled locally use the code that is commented out below\n",
        "#key = pd.read_csv(\"Classification of Organisms- Jupyter Data.csv\")\n",
        "\n",
        "key = pd.read_csv(\"https://github.com/garrettsutula/OCPS-grade-6/raw/develop/data/classification.csv\")\n",
        "\n",
        "# This sets Organism as the index instead of numbers\n",
        "#key = data.set_index(\"organism\")"
      ],
      "execution_count": 0,
      "outputs": []
    },
    {
      "cell_type": "markdown",
      "metadata": {
        "id": "auBasY0XFpEC",
        "colab_type": "text"
      },
      "source": [
        "## Code Box 3"
      ]
    },
    {
      "cell_type": "code",
      "metadata": {
        "id": "GXcLr_1AFpED",
        "colab_type": "code",
        "colab": {}
      },
      "source": [
        "# Animal options in data set\n",
        "# Displays all row titles as an array\n",
        "key.organism"
      ],
      "execution_count": 0,
      "outputs": []
    },
    {
      "cell_type": "markdown",
      "metadata": {
        "id": "IwVe6TXhFpEG",
        "colab_type": "text"
      },
      "source": [
        "## Code Box 4"
      ]
    },
    {
      "cell_type": "code",
      "metadata": {
        "id": "IqTsIaWFFpEI",
        "colab_type": "code",
        "colab": {}
      },
      "source": [
        "# Conditions/Questions for finding the correct animal\n",
        "# Displays all column titles as an array\n",
        "key.columns"
      ],
      "execution_count": 0,
      "outputs": []
    },
    {
      "cell_type": "markdown",
      "metadata": {
        "id": "n_qX70ioFpEK",
        "colab_type": "text"
      },
      "source": [
        "## Code Box 5"
      ]
    },
    {
      "cell_type": "code",
      "metadata": {
        "id": "8cmmmVGrFpEL",
        "colab_type": "code",
        "colab": {}
      },
      "source": [
        "key[(key['kingdom'] == 'fungi')]"
      ],
      "execution_count": 0,
      "outputs": []
    },
    {
      "cell_type": "markdown",
      "metadata": {
        "id": "icsGDkgGFpEP",
        "colab_type": "text"
      },
      "source": [
        "## Code Box 6"
      ]
    },
    {
      "cell_type": "code",
      "metadata": {
        "id": "98xhmmtrFpEP",
        "colab_type": "code",
        "colab": {}
      },
      "source": [
        "\n",
        "key[\n",
        "#physical characteristics\n",
        "    (key['extreme'] == 'no') & \\\n",
        "        \n",
        "#feeding characteristics\n",
        "    \n",
        "    #chloroplasts are used in the process of making food using energy from sunlight\n",
        "    (key['chloroplast'] == 'yes') & \\\n",
        "    \n",
        "    #autotrophs are organisms that generate their own food inside themselves\n",
        "    (key['autotroph'] == 'yes') & \\\n",
        "    \n",
        "#levels of organization\n",
        "    (key['domain'] == 'eukarya') & \\\n",
        "    (key['kingdom'] == 'plantae') & \\\n",
        "   \n",
        "#cell type     \n",
        "    (key['multicellular'] == 'yes') & \\\n",
        "    (key['eukaryotic'] == 'yes') & \\\n",
        "    (key['prokaryotic'] == 'no')\n",
        "    ]"
      ],
      "execution_count": 0,
      "outputs": []
    }
  ]
}